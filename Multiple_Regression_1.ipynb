{
 "cells": [
  {
   "cell_type": "markdown",
   "id": "7fd2dbad",
   "metadata": {},
   "source": [
    "# Regresión múltiple sin penalización"
   ]
  },
  {
   "cell_type": "markdown",
   "id": "0c0b7014",
   "metadata": {},
   "source": [
    "Dataset: California housing\n",
    "\n",
    "Target: Mediana de los valores de las casas \n",
    "\n",
    "Predictoras: variables numéricas y categóricas"
   ]
  },
  {
   "cell_type": "markdown",
   "id": "d9f6e578",
   "metadata": {},
   "source": [
    "# Librerias"
   ]
  },
  {
   "cell_type": "code",
   "execution_count": 1,
   "id": "b4b8bc84",
   "metadata": {},
   "outputs": [],
   "source": [
    "import pandas as pd\n",
    "import os\n",
    "import tarfile\n",
    "import urllib.request\n",
    "import numpy as np\n",
    "from pandas.core.common import flatten\n",
    "from plotnine import *\n",
    "from array import *\n",
    "import scipy.stats as stats\n",
    "import math\n",
    "import matplotlib as mpl\n",
    "import matplotlib.pyplot as plt\n",
    "import statsmodels.api as sm\n",
    "from sklearn.linear_model import LinearRegression\n",
    "from sklearn.metrics import mean_squared_error, r2_score\n",
    "import statsmodels.formula.api as smf\n",
    "import statsmodels.stats.api as sms"
   ]
  },
  {
   "cell_type": "markdown",
   "id": "fbd9ce96",
   "metadata": {},
   "source": [
    "# Los datos"
   ]
  },
  {
   "cell_type": "markdown",
   "id": "fda2fccf",
   "metadata": {},
   "source": [
    "Carga de datos"
   ]
  },
  {
   "cell_type": "code",
   "execution_count": 2,
   "id": "c2c09cd3",
   "metadata": {},
   "outputs": [],
   "source": [
    "path = r'~/Documents/GitHub/Supervisado/dataset/housing.csv'\n",
    "housing = pd.read_csv(path)"
   ]
  },
  {
   "cell_type": "markdown",
   "id": "b8277719",
   "metadata": {},
   "source": [
    "Variable respuesta y descriptoras"
   ]
  },
  {
   "cell_type": "code",
   "execution_count": 3,
   "id": "d1ea5095",
   "metadata": {},
   "outputs": [],
   "source": [
    "y = housing[\"median_house_value\"].copy()\n",
    "housing = housing.drop(\"median_house_value\", axis=1)"
   ]
  },
  {
   "cell_type": "markdown",
   "id": "baf30009",
   "metadata": {},
   "source": [
    "Variables numéricas"
   ]
  },
  {
   "cell_type": "code",
   "execution_count": 4,
   "id": "ed823f1c",
   "metadata": {},
   "outputs": [],
   "source": [
    "housing_num = housing.drop(\"ocean_proximity\", axis=1)"
   ]
  },
  {
   "cell_type": "markdown",
   "id": "c6ae92b5",
   "metadata": {},
   "source": [
    "El imputador"
   ]
  },
  {
   "cell_type": "code",
   "execution_count": 5,
   "id": "1aa6266b",
   "metadata": {},
   "outputs": [],
   "source": [
    "from sklearn.impute import SimpleImputer"
   ]
  },
  {
   "cell_type": "markdown",
   "id": "0a936c85",
   "metadata": {},
   "source": [
    "El estandarizador"
   ]
  },
  {
   "cell_type": "code",
   "execution_count": 6,
   "id": "83f8fdbf",
   "metadata": {},
   "outputs": [],
   "source": [
    "from sklearn.preprocessing import StandardScaler"
   ]
  },
  {
   "cell_type": "markdown",
   "id": "e10622b6",
   "metadata": {},
   "source": [
    "La clase pipeline para variables numéricas"
   ]
  },
  {
   "cell_type": "code",
   "execution_count": 7,
   "id": "c24316f0",
   "metadata": {},
   "outputs": [],
   "source": [
    "from sklearn.pipeline import Pipeline"
   ]
  },
  {
   "cell_type": "markdown",
   "id": "78426b54",
   "metadata": {},
   "source": [
    "Definición del pipeline que trabaja variables numéricas"
   ]
  },
  {
   "cell_type": "code",
   "execution_count": 8,
   "id": "5d8ec53d",
   "metadata": {},
   "outputs": [],
   "source": [
    "num_pipeline = Pipeline([\n",
    "        (\"imputador\", SimpleImputer(strategy=\"median\")),\n",
    "        (\"std_scaler\", StandardScaler()),\n",
    "    ])"
   ]
  },
  {
   "cell_type": "markdown",
   "id": "668ddb71",
   "metadata": {},
   "source": [
    "Clases para procesar a las variables categóricas"
   ]
  },
  {
   "cell_type": "code",
   "execution_count": 9,
   "id": "0300730e",
   "metadata": {},
   "outputs": [],
   "source": [
    "from sklearn.compose import ColumnTransformer\n",
    "from sklearn.preprocessing import OneHotEncoder"
   ]
  },
  {
   "cell_type": "markdown",
   "id": "194e75be",
   "metadata": {},
   "source": [
    "Variables numéricas y categóricas"
   ]
  },
  {
   "cell_type": "code",
   "execution_count": 10,
   "id": "58ad1d77",
   "metadata": {},
   "outputs": [],
   "source": [
    "num_attribs = list(housing_num)\n",
    "cat_attribs = [\"ocean_proximity\"]"
   ]
  },
  {
   "cell_type": "markdown",
   "id": "2b15a25a",
   "metadata": {},
   "source": [
    "Definición del pipeline que trabaja variables numéricas y categóricas"
   ]
  },
  {
   "cell_type": "code",
   "execution_count": 11,
   "id": "73809630",
   "metadata": {},
   "outputs": [],
   "source": [
    "full_pipeline = ColumnTransformer([\n",
    "        (\"num\", num_pipeline, num_attribs),\n",
    "        (\"cat\", OneHotEncoder(drop = \"first\"), cat_attribs),\n",
    "    ])"
   ]
  },
  {
   "cell_type": "markdown",
   "id": "cefc827c",
   "metadata": {},
   "source": [
    "Aplicación del fullpipeline"
   ]
  },
  {
   "cell_type": "code",
   "execution_count": 12,
   "id": "ebb7c327",
   "metadata": {},
   "outputs": [],
   "source": [
    "X = full_pipeline.fit_transform(housing)"
   ]
  },
  {
   "cell_type": "markdown",
   "id": "c57096dd",
   "metadata": {},
   "source": [
    "# Regresión Lineal"
   ]
  },
  {
   "cell_type": "markdown",
   "id": "75c0cbbf",
   "metadata": {},
   "source": [
    "## Primer modelo"
   ]
  },
  {
   "cell_type": "code",
   "execution_count": 13,
   "id": "6c299bc4",
   "metadata": {},
   "outputs": [
    {
     "data": {
      "text/plain": [
       "LinearRegression()"
      ]
     },
     "execution_count": 13,
     "metadata": {},
     "output_type": "execute_result"
    }
   ],
   "source": [
    "lm_reg1 = LinearRegression()\n",
    "lm_reg1.fit(X, y)"
   ]
  },
  {
   "cell_type": "markdown",
   "id": "fb695e4f",
   "metadata": {},
   "source": [
    "Coeficientes del modelo"
   ]
  },
  {
   "cell_type": "code",
   "execution_count": 14,
   "id": "ab565e06",
   "metadata": {},
   "outputs": [
    {
     "name": "stdout",
     "output_type": "stream",
     "text": [
      "Intercepto (LM 1): 219237.0006433122\n"
     ]
    }
   ],
   "source": [
    "print('Intercepto (LM 1):', lm_reg1.intercept_)"
   ]
  },
  {
   "cell_type": "code",
   "execution_count": 15,
   "id": "ba096ed6",
   "metadata": {
    "scrolled": true
   },
   "outputs": [
    {
     "name": "stdout",
     "output_type": "stream",
     "text": [
      "Coeficientes de regresión (LM 1): [-52952.95152846 -53767.62485624  13312.88334575 -10320.06092603\n",
      "  29920.76507621 -44490.47744263  29746.22226671  73636.15586366\n",
      " -39766.3987444  156065.71982235  -3697.40166109   4758.75361226]\n"
     ]
    }
   ],
   "source": [
    "print('Coeficientes de regresión (LM 1):', lm_reg1.coef_)"
   ]
  },
  {
   "cell_type": "markdown",
   "id": "a89e9931",
   "metadata": {},
   "source": [
    "## Segundo modelo"
   ]
  },
  {
   "cell_type": "markdown",
   "id": "d04ffe2d",
   "metadata": {},
   "source": [
    "Es necesario aumentar un intercepto a las variables predictoras"
   ]
  },
  {
   "cell_type": "code",
   "execution_count": 16,
   "id": "87602155",
   "metadata": {},
   "outputs": [],
   "source": [
    "W = sm.add_constant(X)"
   ]
  },
  {
   "cell_type": "code",
   "execution_count": 17,
   "id": "29d1610c",
   "metadata": {},
   "outputs": [],
   "source": [
    "lm_reg2 = sm.OLS(y, W)\n",
    "lm_reg2 = lm_reg2.fit()"
   ]
  },
  {
   "cell_type": "markdown",
   "id": "db90a053",
   "metadata": {},
   "source": [
    "Coeficientes del modelo"
   ]
  },
  {
   "cell_type": "code",
   "execution_count": 18,
   "id": "86b17740",
   "metadata": {},
   "outputs": [
    {
     "name": "stdout",
     "output_type": "stream",
     "text": [
      "Parámetros (LM 2): const    219237.000643\n",
      "x1       -52952.951528\n",
      "x2       -53767.624856\n",
      "x3        13312.883346\n",
      "x4       -10320.060926\n",
      "x5        29920.765076\n",
      "x6       -44490.477443\n",
      "x7        29746.222267\n",
      "x8        73636.155864\n",
      "x9       -39766.398744\n",
      "x10      156065.719822\n",
      "x11       -3697.401661\n",
      "x12        4758.753612\n",
      "dtype: float64\n"
     ]
    }
   ],
   "source": [
    "print('Parámetros (LM 2):', lm_reg2.params)"
   ]
  },
  {
   "cell_type": "markdown",
   "id": "879257e5",
   "metadata": {},
   "source": [
    "Resumen del modelo"
   ]
  },
  {
   "cell_type": "code",
   "execution_count": 19,
   "id": "9af57088",
   "metadata": {},
   "outputs": [
    {
     "data": {
      "text/html": [
       "<table class=\"simpletable\">\n",
       "<caption>OLS Regression Results</caption>\n",
       "<tr>\n",
       "  <th>Dep. Variable:</th>    <td>median_house_value</td> <th>  R-squared:         </th>  <td>   0.645</td>  \n",
       "</tr>\n",
       "<tr>\n",
       "  <th>Model:</th>                    <td>OLS</td>        <th>  Adj. R-squared:    </th>  <td>   0.645</td>  \n",
       "</tr>\n",
       "<tr>\n",
       "  <th>Method:</th>              <td>Least Squares</td>   <th>  F-statistic:       </th>  <td>   3129.</td>  \n",
       "</tr>\n",
       "<tr>\n",
       "  <th>Date:</th>              <td>Mon, 03 Jan 2022</td>  <th>  Prob (F-statistic):</th>   <td>  0.00</td>   \n",
       "</tr>\n",
       "<tr>\n",
       "  <th>Time:</th>                  <td>12:51:19</td>      <th>  Log-Likelihood:    </th> <td>-2.5917e+05</td>\n",
       "</tr>\n",
       "<tr>\n",
       "  <th>No. Observations:</th>       <td> 20640</td>       <th>  AIC:               </th>  <td>5.184e+05</td> \n",
       "</tr>\n",
       "<tr>\n",
       "  <th>Df Residuals:</th>           <td> 20627</td>       <th>  BIC:               </th>  <td>5.185e+05</td> \n",
       "</tr>\n",
       "<tr>\n",
       "  <th>Df Model:</th>               <td>    12</td>       <th>                     </th>      <td> </td>     \n",
       "</tr>\n",
       "<tr>\n",
       "  <th>Covariance Type:</th>       <td>nonrobust</td>     <th>                     </th>      <td> </td>     \n",
       "</tr>\n",
       "</table>\n",
       "<table class=\"simpletable\">\n",
       "<tr>\n",
       "    <td></td>       <th>coef</th>     <th>std err</th>      <th>t</th>      <th>P>|t|</th>  <th>[0.025</th>    <th>0.975]</th>  \n",
       "</tr>\n",
       "<tr>\n",
       "  <th>const</th> <td> 2.192e+05</td> <td>  836.139</td> <td>  262.202</td> <td> 0.000</td> <td> 2.18e+05</td> <td> 2.21e+05</td>\n",
       "</tr>\n",
       "<tr>\n",
       "  <th>x1</th>    <td>-5.295e+04</td> <td> 2031.313</td> <td>  -26.068</td> <td> 0.000</td> <td>-5.69e+04</td> <td> -4.9e+04</td>\n",
       "</tr>\n",
       "<tr>\n",
       "  <th>x2</th>    <td>-5.377e+04</td> <td> 2135.527</td> <td>  -25.178</td> <td> 0.000</td> <td> -5.8e+04</td> <td>-4.96e+04</td>\n",
       "</tr>\n",
       "<tr>\n",
       "  <th>x3</th>    <td> 1.331e+04</td> <td>  550.049</td> <td>   24.203</td> <td> 0.000</td> <td> 1.22e+04</td> <td> 1.44e+04</td>\n",
       "</tr>\n",
       "<tr>\n",
       "  <th>x4</th>    <td>-1.032e+04</td> <td> 1681.185</td> <td>   -6.139</td> <td> 0.000</td> <td>-1.36e+04</td> <td>-7024.805</td>\n",
       "</tr>\n",
       "<tr>\n",
       "  <th>x5</th>    <td> 2.992e+04</td> <td> 2487.720</td> <td>   12.027</td> <td> 0.000</td> <td>  2.5e+04</td> <td> 3.48e+04</td>\n",
       "</tr>\n",
       "<tr>\n",
       "  <th>x6</th>    <td>-4.449e+04</td> <td> 1204.800</td> <td>  -36.928</td> <td> 0.000</td> <td>-4.69e+04</td> <td>-4.21e+04</td>\n",
       "</tr>\n",
       "<tr>\n",
       "  <th>x7</th>    <td> 2.975e+04</td> <td> 2545.710</td> <td>   11.685</td> <td> 0.000</td> <td> 2.48e+04</td> <td> 3.47e+04</td>\n",
       "</tr>\n",
       "<tr>\n",
       "  <th>x8</th>    <td> 7.364e+04</td> <td>  631.147</td> <td>  116.670</td> <td> 0.000</td> <td> 7.24e+04</td> <td> 7.49e+04</td>\n",
       "</tr>\n",
       "<tr>\n",
       "  <th>x9</th>    <td>-3.977e+04</td> <td> 1736.250</td> <td>  -22.904</td> <td> 0.000</td> <td>-4.32e+04</td> <td>-3.64e+04</td>\n",
       "</tr>\n",
       "<tr>\n",
       "  <th>x10</th>   <td> 1.561e+05</td> <td> 3.08e+04</td> <td>    5.072</td> <td> 0.000</td> <td> 9.57e+04</td> <td> 2.16e+05</td>\n",
       "</tr>\n",
       "<tr>\n",
       "  <th>x11</th>   <td>-3697.4017</td> <td> 1906.041</td> <td>   -1.940</td> <td> 0.052</td> <td>-7433.393</td> <td>   38.589</td>\n",
       "</tr>\n",
       "<tr>\n",
       "  <th>x12</th>   <td> 4758.7536</td> <td> 1562.723</td> <td>    3.045</td> <td> 0.002</td> <td> 1695.692</td> <td> 7821.815</td>\n",
       "</tr>\n",
       "</table>\n",
       "<table class=\"simpletable\">\n",
       "<tr>\n",
       "  <th>Omnibus:</th>       <td>5177.939</td> <th>  Durbin-Watson:     </th> <td>   0.968</td> \n",
       "</tr>\n",
       "<tr>\n",
       "  <th>Prob(Omnibus):</th>  <td> 0.000</td>  <th>  Jarque-Bera (JB):  </th> <td>19747.113</td>\n",
       "</tr>\n",
       "<tr>\n",
       "  <th>Skew:</th>           <td> 1.213</td>  <th>  Prob(JB):          </th> <td>    0.00</td> \n",
       "</tr>\n",
       "<tr>\n",
       "  <th>Kurtosis:</th>       <td> 7.132</td>  <th>  Cond. No.          </th> <td>    127.</td> \n",
       "</tr>\n",
       "</table><br/><br/>Notes:<br/>[1] Standard Errors assume that the covariance matrix of the errors is correctly specified."
      ],
      "text/plain": [
       "<class 'statsmodels.iolib.summary.Summary'>\n",
       "\"\"\"\n",
       "                            OLS Regression Results                            \n",
       "==============================================================================\n",
       "Dep. Variable:     median_house_value   R-squared:                       0.645\n",
       "Model:                            OLS   Adj. R-squared:                  0.645\n",
       "Method:                 Least Squares   F-statistic:                     3129.\n",
       "Date:                Mon, 03 Jan 2022   Prob (F-statistic):               0.00\n",
       "Time:                        12:51:19   Log-Likelihood:            -2.5917e+05\n",
       "No. Observations:               20640   AIC:                         5.184e+05\n",
       "Df Residuals:                   20627   BIC:                         5.185e+05\n",
       "Df Model:                          12                                         \n",
       "Covariance Type:            nonrobust                                         \n",
       "==============================================================================\n",
       "                 coef    std err          t      P>|t|      [0.025      0.975]\n",
       "------------------------------------------------------------------------------\n",
       "const       2.192e+05    836.139    262.202      0.000    2.18e+05    2.21e+05\n",
       "x1         -5.295e+04   2031.313    -26.068      0.000   -5.69e+04    -4.9e+04\n",
       "x2         -5.377e+04   2135.527    -25.178      0.000    -5.8e+04   -4.96e+04\n",
       "x3          1.331e+04    550.049     24.203      0.000    1.22e+04    1.44e+04\n",
       "x4         -1.032e+04   1681.185     -6.139      0.000   -1.36e+04   -7024.805\n",
       "x5          2.992e+04   2487.720     12.027      0.000     2.5e+04    3.48e+04\n",
       "x6         -4.449e+04   1204.800    -36.928      0.000   -4.69e+04   -4.21e+04\n",
       "x7          2.975e+04   2545.710     11.685      0.000    2.48e+04    3.47e+04\n",
       "x8          7.364e+04    631.147    116.670      0.000    7.24e+04    7.49e+04\n",
       "x9         -3.977e+04   1736.250    -22.904      0.000   -4.32e+04   -3.64e+04\n",
       "x10         1.561e+05   3.08e+04      5.072      0.000    9.57e+04    2.16e+05\n",
       "x11        -3697.4017   1906.041     -1.940      0.052   -7433.393      38.589\n",
       "x12         4758.7536   1562.723      3.045      0.002    1695.692    7821.815\n",
       "==============================================================================\n",
       "Omnibus:                     5177.939   Durbin-Watson:                   0.968\n",
       "Prob(Omnibus):                  0.000   Jarque-Bera (JB):            19747.113\n",
       "Skew:                           1.213   Prob(JB):                         0.00\n",
       "Kurtosis:                       7.132   Cond. No.                         127.\n",
       "==============================================================================\n",
       "\n",
       "Notes:\n",
       "[1] Standard Errors assume that the covariance matrix of the errors is correctly specified.\n",
       "\"\"\""
      ]
     },
     "execution_count": 19,
     "metadata": {},
     "output_type": "execute_result"
    }
   ],
   "source": [
    "lm_reg2.summary()"
   ]
  },
  {
   "cell_type": "markdown",
   "id": "ad06f626",
   "metadata": {},
   "source": [
    "Coeficientes del modelo"
   ]
  },
  {
   "cell_type": "markdown",
   "id": "8bf4c66f",
   "metadata": {},
   "source": [
    "# Comparativa de modelos"
   ]
  },
  {
   "cell_type": "code",
   "execution_count": 20,
   "id": "53698793",
   "metadata": {},
   "outputs": [
    {
     "data": {
      "text/html": [
       "<div>\n",
       "<style scoped>\n",
       "    .dataframe tbody tr th:only-of-type {\n",
       "        vertical-align: middle;\n",
       "    }\n",
       "\n",
       "    .dataframe tbody tr th {\n",
       "        vertical-align: top;\n",
       "    }\n",
       "\n",
       "    .dataframe thead th {\n",
       "        text-align: right;\n",
       "    }\n",
       "</style>\n",
       "<table border=\"1\" class=\"dataframe\">\n",
       "  <thead>\n",
       "    <tr style=\"text-align: right;\">\n",
       "      <th></th>\n",
       "      <th>Modelo</th>\n",
       "      <th>Score</th>\n",
       "    </tr>\n",
       "  </thead>\n",
       "  <tbody>\n",
       "    <tr>\n",
       "      <th>0</th>\n",
       "      <td>Lm1</td>\n",
       "      <td>0.645453</td>\n",
       "    </tr>\n",
       "    <tr>\n",
       "      <th>1</th>\n",
       "      <td>Lm2</td>\n",
       "      <td>0.645453</td>\n",
       "    </tr>\n",
       "  </tbody>\n",
       "</table>\n",
       "</div>"
      ],
      "text/plain": [
       "  Modelo     Score\n",
       "0    Lm1  0.645453\n",
       "1    Lm2  0.645453"
      ]
     },
     "execution_count": 20,
     "metadata": {},
     "output_type": "execute_result"
    }
   ],
   "source": [
    "mod = ['Lm1','Lm2']\n",
    "score = [lm_reg1.score(X,y),lm_reg2.rsquared]\n",
    "df = pd.DataFrame()\n",
    "df['Modelo'] = mod\n",
    "df['Score'] = score\n",
    "df"
   ]
  },
  {
   "cell_type": "markdown",
   "id": "b51fe31e",
   "metadata": {},
   "source": [
    "Elaborado por Jairo Rojas"
   ]
  }
 ],
 "metadata": {
  "kernelspec": {
   "display_name": "Python 3",
   "language": "python",
   "name": "python3"
  },
  "language_info": {
   "codemirror_mode": {
    "name": "ipython",
    "version": 3
   },
   "file_extension": ".py",
   "mimetype": "text/x-python",
   "name": "python",
   "nbconvert_exporter": "python",
   "pygments_lexer": "ipython3",
   "version": "3.8.8"
  }
 },
 "nbformat": 4,
 "nbformat_minor": 5
}
