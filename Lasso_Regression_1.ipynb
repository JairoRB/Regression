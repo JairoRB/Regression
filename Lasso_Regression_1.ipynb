{
 "cells": [
  {
   "cell_type": "markdown",
   "id": "11c2ab48",
   "metadata": {},
   "source": [
    "# Regresión penalizada con Lasso"
   ]
  },
  {
   "cell_type": "markdown",
   "id": "c5abc130",
   "metadata": {},
   "source": [
    "Dataset: California housing\n",
    "\n",
    "Target: Mediana de los valores de las casas \n",
    "\n",
    "Predictoras: variables numéricas y categóricas\n",
    "\n",
    "Lasso1 con el hiperparámetro de encogimiento $\\alpha = 0.01$\n",
    "\n",
    "Lasso2 con el hiperparámetro de encogimiento $\\alpha = 1$\n",
    "\n",
    "Lasso3 con el hiperparámetro de encogimiento $\\alpha = 100$\n",
    "\n",
    "Lasso4 con el hiperparámetro de encogimiento $\\alpha = 10000$"
   ]
  },
  {
   "cell_type": "markdown",
   "id": "c2ab8b0a",
   "metadata": {},
   "source": [
    "# Librerias"
   ]
  },
  {
   "cell_type": "code",
   "execution_count": 1,
   "id": "9bd38de0",
   "metadata": {},
   "outputs": [],
   "source": [
    "import os, sys\n",
    "import pandas as pd\n",
    "import os\n",
    "import tarfile\n",
    "import urllib.request\n",
    "import numpy as np\n",
    "from pandas.core.common import flatten\n",
    "from plotnine import *\n",
    "from array import *\n",
    "import scipy.stats as stats\n",
    "import math\n",
    "import matplotlib as mpl\n",
    "import matplotlib.pyplot as plt\n",
    "import statsmodels.api as sm\n",
    "from sklearn import linear_model\n",
    "from sklearn.metrics import mean_squared_error, r2_score\n",
    "import statsmodels.formula.api as smf\n",
    "import statsmodels.stats.api as sms"
   ]
  },
  {
   "cell_type": "markdown",
   "id": "ed8300db",
   "metadata": {},
   "source": [
    "# Los datos"
   ]
  },
  {
   "cell_type": "markdown",
   "id": "a5fd7457",
   "metadata": {},
   "source": [
    "Carga de datos"
   ]
  },
  {
   "cell_type": "code",
   "execution_count": 2,
   "id": "50ed7298",
   "metadata": {},
   "outputs": [],
   "source": [
    "path = r'~/Documents/GitHub/Supervisado/dataset/housing.csv'\n",
    "housing = pd.read_csv(path)"
   ]
  },
  {
   "cell_type": "markdown",
   "id": "b4264f68",
   "metadata": {},
   "source": [
    "Variable respuesta y descriptoras"
   ]
  },
  {
   "cell_type": "code",
   "execution_count": 3,
   "id": "a3e14e54",
   "metadata": {},
   "outputs": [],
   "source": [
    "y = housing[\"median_house_value\"].copy()\n",
    "housing = housing.drop(\"median_house_value\", axis=1)"
   ]
  },
  {
   "cell_type": "markdown",
   "id": "4b1e47b9",
   "metadata": {},
   "source": [
    "Variables numéricas"
   ]
  },
  {
   "cell_type": "code",
   "execution_count": 4,
   "id": "4922a440",
   "metadata": {},
   "outputs": [],
   "source": [
    "housing_num = housing.drop(\"ocean_proximity\", axis=1)"
   ]
  },
  {
   "cell_type": "markdown",
   "id": "ee88f6dd",
   "metadata": {},
   "source": [
    "El imputador"
   ]
  },
  {
   "cell_type": "code",
   "execution_count": 5,
   "id": "90da062a",
   "metadata": {},
   "outputs": [],
   "source": [
    "from sklearn.impute import SimpleImputer"
   ]
  },
  {
   "cell_type": "markdown",
   "id": "20069e24",
   "metadata": {},
   "source": [
    "El estandarizador"
   ]
  },
  {
   "cell_type": "code",
   "execution_count": 6,
   "id": "a338f4b6",
   "metadata": {},
   "outputs": [],
   "source": [
    "from sklearn.preprocessing import StandardScaler"
   ]
  },
  {
   "cell_type": "markdown",
   "id": "da0fcebc",
   "metadata": {},
   "source": [
    "La clase pipeline para variables numéricas"
   ]
  },
  {
   "cell_type": "code",
   "execution_count": 7,
   "id": "9e14c381",
   "metadata": {},
   "outputs": [],
   "source": [
    "from sklearn.pipeline import Pipeline"
   ]
  },
  {
   "cell_type": "markdown",
   "id": "616b9b69",
   "metadata": {},
   "source": [
    "Definición del pipeline que trabaja variables numéricas"
   ]
  },
  {
   "cell_type": "code",
   "execution_count": 8,
   "id": "429cdc8f",
   "metadata": {},
   "outputs": [],
   "source": [
    "num_pipeline = Pipeline([\n",
    "        (\"imputador\", SimpleImputer(strategy=\"median\")),\n",
    "        (\"std_scaler\", StandardScaler()),\n",
    "    ])"
   ]
  },
  {
   "cell_type": "markdown",
   "id": "8932f85e",
   "metadata": {},
   "source": [
    "Clases para procesar a las variables categóricas"
   ]
  },
  {
   "cell_type": "code",
   "execution_count": 9,
   "id": "06cef729",
   "metadata": {},
   "outputs": [],
   "source": [
    "from sklearn.compose import ColumnTransformer\n",
    "from sklearn.preprocessing import OneHotEncoder"
   ]
  },
  {
   "cell_type": "markdown",
   "id": "ea3f762e",
   "metadata": {},
   "source": [
    "Definición del pipeline que trabaja variables numéricas y categóricas"
   ]
  },
  {
   "cell_type": "markdown",
   "id": "89d2dc37",
   "metadata": {},
   "source": [
    "Variables numéricas y categóricas"
   ]
  },
  {
   "cell_type": "code",
   "execution_count": 10,
   "id": "a3c94e9d",
   "metadata": {},
   "outputs": [],
   "source": [
    "num_attribs = list(housing_num)\n",
    "cat_attribs = [\"ocean_proximity\"]"
   ]
  },
  {
   "cell_type": "code",
   "execution_count": 11,
   "id": "2bc94a69",
   "metadata": {},
   "outputs": [],
   "source": [
    "full_pipeline = ColumnTransformer([\n",
    "        (\"num\", num_pipeline, num_attribs),\n",
    "        (\"cat\", OneHotEncoder(drop = \"first\"), cat_attribs),\n",
    "    ])"
   ]
  },
  {
   "cell_type": "markdown",
   "id": "b864d260",
   "metadata": {},
   "source": [
    "Aplicación del fullpipeline"
   ]
  },
  {
   "cell_type": "code",
   "execution_count": 12,
   "id": "d87c4e8b",
   "metadata": {},
   "outputs": [],
   "source": [
    "X = full_pipeline.fit_transform(housing)"
   ]
  },
  {
   "cell_type": "markdown",
   "id": "2c9cf00d",
   "metadata": {},
   "source": [
    "# Regresión Lasso"
   ]
  },
  {
   "cell_type": "code",
   "execution_count": 13,
   "id": "9fede9bd",
   "metadata": {},
   "outputs": [],
   "source": [
    "from sklearn.linear_model import Lasso"
   ]
  },
  {
   "cell_type": "markdown",
   "id": "6b3f07c1",
   "metadata": {},
   "source": [
    "## Primer modelo"
   ]
  },
  {
   "cell_type": "code",
   "execution_count": 14,
   "id": "876ce22f",
   "metadata": {},
   "outputs": [
    {
     "data": {
      "text/plain": [
       "Lasso(alpha=0.01)"
      ]
     },
     "execution_count": 14,
     "metadata": {},
     "output_type": "execute_result"
    }
   ],
   "source": [
    "lasso_reg1 = Lasso(alpha = 0.01)\n",
    "lasso_reg1.fit(X, y)"
   ]
  },
  {
   "cell_type": "markdown",
   "id": "1aeb3db0",
   "metadata": {},
   "source": [
    "Coeficientes del modelo"
   ]
  },
  {
   "cell_type": "code",
   "execution_count": 15,
   "id": "3d049fdd",
   "metadata": {},
   "outputs": [
    {
     "name": "stdout",
     "output_type": "stream",
     "text": [
      "Intercepto (Lasso 1): 219237.02415749966\n"
     ]
    }
   ],
   "source": [
    "print('Intercepto (Lasso 1):', lasso_reg1.intercept_)"
   ]
  },
  {
   "cell_type": "code",
   "execution_count": 16,
   "id": "c9b203f5",
   "metadata": {
    "scrolled": true
   },
   "outputs": [
    {
     "name": "stdout",
     "output_type": "stream",
     "text": [
      "Coeficientes de regresión (Lasso 1): [-52952.78443387 -53767.48780498  13312.88241332 -10319.85785771\n",
      "  29920.656434   -44490.41003584  29746.06458758  73636.10208589\n",
      " -39766.48244354 156024.45171074  -3697.22627356   4758.70383172]\n"
     ]
    }
   ],
   "source": [
    "print('Coeficientes de regresión (Lasso 1):', lasso_reg1.coef_)"
   ]
  },
  {
   "cell_type": "markdown",
   "id": "ab00b44d",
   "metadata": {},
   "source": [
    "## Segundo modelo"
   ]
  },
  {
   "cell_type": "code",
   "execution_count": 17,
   "id": "bee717ad",
   "metadata": {},
   "outputs": [
    {
     "data": {
      "text/plain": [
       "Lasso(alpha=1)"
      ]
     },
     "execution_count": 17,
     "metadata": {},
     "output_type": "execute_result"
    }
   ],
   "source": [
    "lasso_reg2 = Lasso(alpha = 1)\n",
    "lasso_reg2.fit(X, y)"
   ]
  },
  {
   "cell_type": "markdown",
   "id": "5960be07",
   "metadata": {},
   "source": [
    "Coeficientes del modelo"
   ]
  },
  {
   "cell_type": "code",
   "execution_count": 18,
   "id": "15ad5c19",
   "metadata": {},
   "outputs": [
    {
     "name": "stdout",
     "output_type": "stream",
     "text": [
      "Intercepto (Lasso 2): 219239.371611401\n"
     ]
    }
   ],
   "source": [
    "print('Intercepto (Lasso 2):', lasso_reg2.intercept_)"
   ]
  },
  {
   "cell_type": "code",
   "execution_count": 19,
   "id": "47460f9e",
   "metadata": {
    "scrolled": false
   },
   "outputs": [
    {
     "name": "stdout",
     "output_type": "stream",
     "text": [
      "Coeficientes de regresión (Lasso 2): [-52936.10528879 -53753.78630134  13312.79044653 -10299.69365603\n",
      "  29909.69564186 -44483.79617817  29730.65349082  73630.76579416\n",
      " -39774.84408823 151938.98956871  -3679.84442713   4753.79358651]\n"
     ]
    }
   ],
   "source": [
    "print('Coeficientes de regresión (Lasso 2):', lasso_reg2.coef_)"
   ]
  },
  {
   "cell_type": "markdown",
   "id": "1dbad082",
   "metadata": {},
   "source": [
    "## Tercer modelo"
   ]
  },
  {
   "cell_type": "code",
   "execution_count": 20,
   "id": "ac4d9e60",
   "metadata": {},
   "outputs": [
    {
     "data": {
      "text/plain": [
       "Lasso(alpha=100)"
      ]
     },
     "execution_count": 20,
     "metadata": {},
     "output_type": "execute_result"
    }
   ],
   "source": [
    "lasso_reg3 = Lasso(alpha = 100)\n",
    "lasso_reg3.fit(X, y)"
   ]
  },
  {
   "cell_type": "markdown",
   "id": "db029fa2",
   "metadata": {},
   "source": [
    "Coeficientes del modelo"
   ]
  },
  {
   "cell_type": "code",
   "execution_count": 21,
   "id": "a5db37ec",
   "metadata": {},
   "outputs": [
    {
     "name": "stdout",
     "output_type": "stream",
     "text": [
      "Intercepto (Lasso 3): 219394.79629588072\n"
     ]
    }
   ],
   "source": [
    "print('Intercepto (Lasso 3):', lasso_reg3.intercept_)"
   ]
  },
  {
   "cell_type": "code",
   "execution_count": 22,
   "id": "eb72cdf1",
   "metadata": {
    "scrolled": true
   },
   "outputs": [
    {
     "name": "stdout",
     "output_type": "stream",
     "text": [
      "Coeficientes de regresión (Lasso 3): [-50821.09807236 -51878.81780592  13249.40282116  -8401.09145709\n",
      "  28427.82075877 -43750.06410831  28636.50451524  73171.31089327\n",
      " -40719.18801067      0.          -1751.06242505   4498.41951253]\n"
     ]
    }
   ],
   "source": [
    "print('Coeficientes de regresión (Lasso 3):', lasso_reg3.coef_)"
   ]
  },
  {
   "cell_type": "markdown",
   "id": "9c884fa3",
   "metadata": {},
   "source": [
    "## Cuarto modelo"
   ]
  },
  {
   "cell_type": "code",
   "execution_count": 23,
   "id": "08f0267e",
   "metadata": {},
   "outputs": [
    {
     "data": {
      "text/plain": [
       "Lasso(alpha=10000)"
      ]
     },
     "execution_count": 23,
     "metadata": {},
     "output_type": "execute_result"
    }
   ],
   "source": [
    "lasso_reg4 = Lasso(alpha = 10000)\n",
    "lasso_reg4.fit(X, y)"
   ]
  },
  {
   "cell_type": "markdown",
   "id": "05a1dcf4",
   "metadata": {},
   "source": [
    "Coeficientes del modelo"
   ]
  },
  {
   "cell_type": "code",
   "execution_count": 24,
   "id": "6ecb8c3f",
   "metadata": {},
   "outputs": [
    {
     "name": "stdout",
     "output_type": "stream",
     "text": [
      "Intercepto (Lasso 4): 218717.123954823\n"
     ]
    }
   ],
   "source": [
    "print('Intercepto (Lasso 4):', lasso_reg4.intercept_)"
   ]
  },
  {
   "cell_type": "code",
   "execution_count": 25,
   "id": "cfd019c0",
   "metadata": {},
   "outputs": [
    {
     "name": "stdout",
     "output_type": "stream",
     "text": [
      "Coeficientes de regresión (Lasso 4): [    -0.             -0.           5925.06123247      0.\n",
      "      0.             -0.              0.          65973.15122729\n",
      " -37370.99334873      0.              0.              0.        ]\n"
     ]
    }
   ],
   "source": [
    "print('Coeficientes de regresión (Lasso 4):', lasso_reg4.coef_)"
   ]
  },
  {
   "cell_type": "markdown",
   "id": "20f25479",
   "metadata": {},
   "source": [
    "# Comparación Gráfica"
   ]
  },
  {
   "cell_type": "code",
   "execution_count": 26,
   "id": "7ef81e7a",
   "metadata": {
    "scrolled": true
   },
   "outputs": [
    {
     "data": {
      "image/png": "[encoded data removed]",
      "text/plain": [
       "<Figure size 576x576 with 1 Axes>"
      ]
     },
     "metadata": {
      "needs_background": "light"
     },
     "output_type": "display_data"
    }
   ],
   "source": [
    "fig = plt.figure(figsize=(8, 8))\n",
    "# ancho de barra-------------------------------------------------\n",
    "barWidth = 0.25\n",
    "# definir posicion barras series---------------------------------\n",
    "r1 = np.arange(len(lasso_reg1.coef_))\n",
    "r2 = [x + barWidth for x in r1]\n",
    "r3 = [x + barWidth for x in r2]\n",
    "r4 = [x + barWidth for x in r3]\n",
    "# pintar las barras----------------------------------------------\n",
    "plt.bar(r1, lasso_reg1.coef_, color = \"blue\", \n",
    "width = barWidth, edgecolor = \"white\", label = \"Lasso 1\");\n",
    "plt.bar(r2, lasso_reg2.coef_, color = \"red\", \n",
    "width = barWidth, edgecolor = \"white\", label = \"Lasso 2\");\n",
    "plt.bar(r3, lasso_reg3.coef_, color = \"gray\", \n",
    "width = barWidth, edgecolor = \"white\", label = \"Lasso 3\");\n",
    "plt.bar(r4, lasso_reg4.coef_, color = \"purple\", \n",
    "width = barWidth, edgecolor = \"white\", label = \"Lasso 4\");\n",
    "plt.xticks([r + barWidth for r in range(len(lasso_reg1.coef_))], \n",
    "['B1', 'B2', 'B3', 'B4', 'B5', 'B6', 'B7', 'B8', 'B9', 'B10', 'B11', 'B12']);\n",
    "plt.legend();\n",
    "plt.xlabel(\"Variable\");\n",
    "plt.ylabel(\"Beta\");\n",
    "plt.show(fig)"
   ]
  },
  {
   "cell_type": "markdown",
   "id": "fd30bf65",
   "metadata": {},
   "source": [
    "# Comparativa de modelos"
   ]
  },
  {
   "cell_type": "code",
   "execution_count": 27,
   "id": "c6c2ec6f",
   "metadata": {},
   "outputs": [
    {
     "data": {
      "text/html": [
       "<div>\n",
       "<style scoped>\n",
       "    .dataframe tbody tr th:only-of-type {\n",
       "        vertical-align: middle;\n",
       "    }\n",
       "\n",
       "    .dataframe tbody tr th {\n",
       "        vertical-align: top;\n",
       "    }\n",
       "\n",
       "    .dataframe thead th {\n",
       "        text-align: right;\n",
       "    }\n",
       "</style>\n",
       "<table border=\"1\" class=\"dataframe\">\n",
       "  <thead>\n",
       "    <tr style=\"text-align: right;\">\n",
       "      <th></th>\n",
       "      <th>Modelo</th>\n",
       "      <th>Score</th>\n",
       "    </tr>\n",
       "  </thead>\n",
       "  <tbody>\n",
       "    <tr>\n",
       "      <th>0</th>\n",
       "      <td>Lasso1</td>\n",
       "      <td>0.645453</td>\n",
       "    </tr>\n",
       "    <tr>\n",
       "      <th>1</th>\n",
       "      <td>Lasso2</td>\n",
       "      <td>0.645453</td>\n",
       "    </tr>\n",
       "    <tr>\n",
       "      <th>2</th>\n",
       "      <td>Lasso3</td>\n",
       "      <td>0.644924</td>\n",
       "    </tr>\n",
       "    <tr>\n",
       "      <th>3</th>\n",
       "      <td>Lasso4</td>\n",
       "      <td>0.553965</td>\n",
       "    </tr>\n",
       "  </tbody>\n",
       "</table>\n",
       "</div>"
      ],
      "text/plain": [
       "   Modelo     Score\n",
       "0  Lasso1  0.645453\n",
       "1  Lasso2  0.645453\n",
       "2  Lasso3  0.644924\n",
       "3  Lasso4  0.553965"
      ]
     },
     "execution_count": 27,
     "metadata": {},
     "output_type": "execute_result"
    }
   ],
   "source": [
    "mod = ['Lasso1','Lasso2','Lasso3','Lasso4']\n",
    "score = [lasso_reg1.score(X,y),lasso_reg2.score(X,y),lasso_reg3.score(X,y),lasso_reg4.score(X,y)]\n",
    "df = pd.DataFrame()\n",
    "df['Modelo'] = mod\n",
    "df['Score'] = score\n",
    "df"
   ]
  },
  {
   "cell_type": "markdown",
   "id": "aab0f23c",
   "metadata": {},
   "source": [
    "Elaborado por Jairo Rojas"
   ]
  }
 ],
 "metadata": {
  "kernelspec": {
   "display_name": "Python 3",
   "language": "python",
   "name": "python3"
  },
  "language_info": {
   "codemirror_mode": {
    "name": "ipython",
    "version": 3
   },
   "file_extension": ".py",
   "mimetype": "text/x-python",
   "name": "python",
   "nbconvert_exporter": "python",
   "pygments_lexer": "ipython3",
   "version": "3.8.8"
  }
 },
 "nbformat": 4,
 "nbformat_minor": 5
}
