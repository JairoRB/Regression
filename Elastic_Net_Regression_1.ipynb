{
 "cells": [
  {
   "cell_type": "markdown",
   "id": "11c2ab48",
   "metadata": {},
   "source": [
    "# Regresión penalizada con Red Elástica"
   ]
  },
  {
   "cell_type": "markdown",
   "id": "c5abc130",
   "metadata": {},
   "source": [
    "Dataset: California housing\n",
    "\n",
    "Target: Mediana de los valores de las casas \n",
    "\n",
    "Predictoras: variables numéricas y categóricas\n",
    "\n",
    "E_net1 con el hiperparámetro de encogimiento $r = 0.01$\n",
    "\n",
    "E_net2 con el hiperparámetro de encogimiento $r = 0.1$\n",
    "\n",
    "E_net3 con el hiperparámetro de encogimiento $r = 0.9$\n",
    "\n",
    "E_net4 con el hiperparámetro de encogimiento $r = 1$\n",
    "\n",
    "El parámetro $\\alpha$ se ajusta con validación cruzada con 15 particiones"
   ]
  },
  {
   "cell_type": "markdown",
   "id": "c2ab8b0a",
   "metadata": {},
   "source": [
    "# Librerias"
   ]
  },
  {
   "cell_type": "code",
   "execution_count": 1,
   "id": "9bd38de0",
   "metadata": {},
   "outputs": [],
   "source": [
    "import pandas as pd\n",
    "import numpy as np\n",
    "import os\n",
    "import numpy as np\n",
    "from pandas.core.common import flatten\n",
    "from plotnine import *\n",
    "from array import *\n",
    "import scipy.stats as stats\n",
    "import math\n",
    "import matplotlib as mpl\n",
    "import matplotlib.pyplot as plt\n",
    "import statsmodels.api as sm\n",
    "from sklearn import linear_model\n",
    "from sklearn.metrics import mean_squared_error, r2_score\n",
    "import statsmodels.formula.api as smf\n",
    "import statsmodels.stats.api as sms"
   ]
  },
  {
   "cell_type": "markdown",
   "id": "ed8300db",
   "metadata": {},
   "source": [
    "# Los datos"
   ]
  },
  {
   "cell_type": "markdown",
   "id": "a5fd7457",
   "metadata": {},
   "source": [
    "Carga de datos"
   ]
  },
  {
   "cell_type": "code",
   "execution_count": 2,
   "id": "50ed7298",
   "metadata": {},
   "outputs": [],
   "source": [
    "path = r'~/Documents/GitHub/Supervisado/dataset/housing.csv'\n",
    "housing = pd.read_csv(path)"
   ]
  },
  {
   "cell_type": "markdown",
   "id": "b4264f68",
   "metadata": {},
   "source": [
    "Variable respuesta y descriptoras"
   ]
  },
  {
   "cell_type": "code",
   "execution_count": 3,
   "id": "a3e14e54",
   "metadata": {},
   "outputs": [],
   "source": [
    "y = housing[\"median_house_value\"].copy()\n",
    "housing = housing.drop(\"median_house_value\", axis=1)"
   ]
  },
  {
   "cell_type": "markdown",
   "id": "4b1e47b9",
   "metadata": {},
   "source": [
    "Variables numéricas"
   ]
  },
  {
   "cell_type": "code",
   "execution_count": 4,
   "id": "4922a440",
   "metadata": {},
   "outputs": [],
   "source": [
    "housing_num = housing.drop(\"ocean_proximity\", axis=1)"
   ]
  },
  {
   "cell_type": "markdown",
   "id": "ee88f6dd",
   "metadata": {},
   "source": [
    "El imputador"
   ]
  },
  {
   "cell_type": "code",
   "execution_count": 5,
   "id": "90da062a",
   "metadata": {},
   "outputs": [],
   "source": [
    "from sklearn.impute import SimpleImputer"
   ]
  },
  {
   "cell_type": "markdown",
   "id": "20069e24",
   "metadata": {},
   "source": [
    "El estandarizador"
   ]
  },
  {
   "cell_type": "code",
   "execution_count": 6,
   "id": "a338f4b6",
   "metadata": {},
   "outputs": [],
   "source": [
    "from sklearn.preprocessing import StandardScaler"
   ]
  },
  {
   "cell_type": "markdown",
   "id": "da0fcebc",
   "metadata": {},
   "source": [
    "La clase pipeline para variables numéricas"
   ]
  },
  {
   "cell_type": "code",
   "execution_count": 7,
   "id": "9e14c381",
   "metadata": {},
   "outputs": [],
   "source": [
    "from sklearn.pipeline import Pipeline"
   ]
  },
  {
   "cell_type": "markdown",
   "id": "616b9b69",
   "metadata": {},
   "source": [
    "Definición del pipeline que trabaja variables numéricas"
   ]
  },
  {
   "cell_type": "code",
   "execution_count": 8,
   "id": "429cdc8f",
   "metadata": {},
   "outputs": [],
   "source": [
    "num_pipeline = Pipeline([\n",
    "        (\"imputador\", SimpleImputer(strategy=\"median\")),\n",
    "        (\"std_scaler\", StandardScaler()),\n",
    "    ])"
   ]
  },
  {
   "cell_type": "markdown",
   "id": "8932f85e",
   "metadata": {},
   "source": [
    "Clases para procesar a las variables categóricas"
   ]
  },
  {
   "cell_type": "code",
   "execution_count": 9,
   "id": "06cef729",
   "metadata": {},
   "outputs": [],
   "source": [
    "from sklearn.compose import ColumnTransformer\n",
    "from sklearn.preprocessing import OneHotEncoder"
   ]
  },
  {
   "cell_type": "markdown",
   "id": "ea3f762e",
   "metadata": {},
   "source": [
    "Definición del pipeline que trabaja variables numéricas y categóricas"
   ]
  },
  {
   "cell_type": "markdown",
   "id": "89d2dc37",
   "metadata": {},
   "source": [
    "Variables numéricas y categóricas"
   ]
  },
  {
   "cell_type": "code",
   "execution_count": 10,
   "id": "a3c94e9d",
   "metadata": {},
   "outputs": [],
   "source": [
    "num_attribs = list(housing_num)\n",
    "cat_attribs = [\"ocean_proximity\"]"
   ]
  },
  {
   "cell_type": "code",
   "execution_count": 11,
   "id": "2bc94a69",
   "metadata": {},
   "outputs": [],
   "source": [
    "full_pipeline = ColumnTransformer([\n",
    "        (\"num\", num_pipeline, num_attribs),\n",
    "        (\"cat\", OneHotEncoder(drop = \"first\"), cat_attribs),\n",
    "    ])"
   ]
  },
  {
   "cell_type": "markdown",
   "id": "b864d260",
   "metadata": {},
   "source": [
    "Aplicación del fullpipeline"
   ]
  },
  {
   "cell_type": "code",
   "execution_count": 12,
   "id": "d87c4e8b",
   "metadata": {},
   "outputs": [],
   "source": [
    "X = full_pipeline.fit_transform(housing)"
   ]
  },
  {
   "cell_type": "markdown",
   "id": "2c9cf00d",
   "metadata": {},
   "source": [
    "# Regresión Red Elástica"
   ]
  },
  {
   "cell_type": "markdown",
   "id": "75183f6e",
   "metadata": {},
   "source": [
    "Establecer semilla para obtener el mismo resultado"
   ]
  },
  {
   "cell_type": "code",
   "execution_count": 13,
   "id": "33646e76",
   "metadata": {},
   "outputs": [],
   "source": [
    "np.random.seed(42)"
   ]
  },
  {
   "cell_type": "code",
   "execution_count": 14,
   "id": "9fede9bd",
   "metadata": {},
   "outputs": [],
   "source": [
    "from sklearn.linear_model import ElasticNetCV"
   ]
  },
  {
   "cell_type": "markdown",
   "id": "6b3f07c1",
   "metadata": {},
   "source": [
    "## Primer modelo"
   ]
  },
  {
   "cell_type": "code",
   "execution_count": 15,
   "id": "876ce22f",
   "metadata": {},
   "outputs": [
    {
     "data": {
      "text/plain": [
       "ElasticNetCV(cv=15, l1_ratio=0.01)"
      ]
     },
     "execution_count": 15,
     "metadata": {},
     "output_type": "execute_result"
    }
   ],
   "source": [
    "e_net_reg1 = ElasticNetCV(cv = 15, l1_ratio = 0.01)\n",
    "e_net_reg1.fit(X, y)"
   ]
  },
  {
   "cell_type": "markdown",
   "id": "bc9ec449",
   "metadata": {},
   "source": [
    "El parámetro $\\alpha$"
   ]
  },
  {
   "cell_type": "code",
   "execution_count": 16,
   "id": "36d636ba",
   "metadata": {},
   "outputs": [
    {
     "data": {
      "text/plain": [
       "7939.893889648997"
      ]
     },
     "execution_count": 16,
     "metadata": {},
     "output_type": "execute_result"
    }
   ],
   "source": [
    "e_net_reg1.alpha_"
   ]
  },
  {
   "cell_type": "markdown",
   "id": "1aeb3db0",
   "metadata": {},
   "source": [
    "Coeficientes del modelo"
   ]
  },
  {
   "cell_type": "code",
   "execution_count": 17,
   "id": "3d049fdd",
   "metadata": {},
   "outputs": [
    {
     "name": "stdout",
     "output_type": "stream",
     "text": [
      "Intercepto (E_net 1): 206856.6957587187\n"
     ]
    }
   ],
   "source": [
    "print('Intercepto (E_net 1):', e_net_reg1.intercept_)"
   ]
  },
  {
   "cell_type": "code",
   "execution_count": 18,
   "id": "c9b203f5",
   "metadata": {
    "scrolled": true
   },
   "outputs": [
    {
     "name": "stdout",
     "output_type": "stream",
     "text": [
      "Coeficientes de regresión (E_net 1): [-0.66483383 -2.10581399  1.5404998   1.95868929  0.71558871 -0.35208773\n",
      "  0.95609767 10.08952727 -3.30265349  0.          0.72886085  0.68740848]\n"
     ]
    }
   ],
   "source": [
    "print('Coeficientes de regresión (E_net 1):', e_net_reg1.coef_)"
   ]
  },
  {
   "cell_type": "markdown",
   "id": "ab00b44d",
   "metadata": {},
   "source": [
    "## Segundo modelo"
   ]
  },
  {
   "cell_type": "code",
   "execution_count": 19,
   "id": "bee717ad",
   "metadata": {},
   "outputs": [
    {
     "data": {
      "text/plain": [
       "ElasticNetCV(cv=15, l1_ratio=0.1)"
      ]
     },
     "execution_count": 19,
     "metadata": {},
     "output_type": "execute_result"
    }
   ],
   "source": [
    "e_net_reg2 = ElasticNetCV(cv = 15, l1_ratio = 0.1)\n",
    "e_net_reg2.fit(X, y)"
   ]
  },
  {
   "cell_type": "markdown",
   "id": "3ee3ee51",
   "metadata": {},
   "source": [
    "El parámetro $\\alpha$"
   ]
  },
  {
   "cell_type": "code",
   "execution_count": 20,
   "id": "737a7e93",
   "metadata": {},
   "outputs": [
    {
     "data": {
      "text/plain": [
       "793.9893889648997"
      ]
     },
     "execution_count": 20,
     "metadata": {},
     "output_type": "execute_result"
    }
   ],
   "source": [
    "e_net_reg2.alpha_"
   ]
  },
  {
   "cell_type": "markdown",
   "id": "5960be07",
   "metadata": {},
   "source": [
    "Coeficientes del modelo"
   ]
  },
  {
   "cell_type": "code",
   "execution_count": 21,
   "id": "15ad5c19",
   "metadata": {},
   "outputs": [
    {
     "name": "stdout",
     "output_type": "stream",
     "text": [
      "Intercepto (E_net 2): 206865.4749645959\n"
     ]
    }
   ],
   "source": [
    "print('Intercepto (E_net 2):', e_net_reg2.intercept_)"
   ]
  },
  {
   "cell_type": "code",
   "execution_count": 22,
   "id": "47460f9e",
   "metadata": {
    "scrolled": false
   },
   "outputs": [
    {
     "name": "stdout",
     "output_type": "stream",
     "text": [
      "Coeficientes de regresión (E_net 2): [ -7.3285382  -23.12318484  16.94967114  21.48093501   7.83412633\n",
      "  -3.90892666  10.4757704  110.83304095 -36.29600822   0.\n",
      "   8.01288948   7.55581778]\n"
     ]
    }
   ],
   "source": [
    "print('Coeficientes de regresión (E_net 2):', e_net_reg2.coef_)"
   ]
  },
  {
   "cell_type": "markdown",
   "id": "1dbad082",
   "metadata": {},
   "source": [
    "## Tercer modelo"
   ]
  },
  {
   "cell_type": "code",
   "execution_count": 23,
   "id": "ac4d9e60",
   "metadata": {},
   "outputs": [
    {
     "data": {
      "text/plain": [
       "ElasticNetCV(cv=15, l1_ratio=0.9)"
      ]
     },
     "execution_count": 23,
     "metadata": {},
     "output_type": "execute_result"
    }
   ],
   "source": [
    "e_net_reg3 = ElasticNetCV(cv = 15, l1_ratio = 0.9)\n",
    "e_net_reg3.fit(X, y)"
   ]
  },
  {
   "cell_type": "markdown",
   "id": "2d1f2683",
   "metadata": {},
   "source": [
    "El parámetro $\\alpha$"
   ]
  },
  {
   "cell_type": "code",
   "execution_count": 24,
   "id": "a827eedb",
   "metadata": {},
   "outputs": [
    {
     "data": {
      "text/plain": [
       "88.22104321832217"
      ]
     },
     "execution_count": 24,
     "metadata": {},
     "output_type": "execute_result"
    }
   ],
   "source": [
    "e_net_reg3.alpha_"
   ]
  },
  {
   "cell_type": "code",
   "execution_count": 25,
   "id": "83cae9a2",
   "metadata": {},
   "outputs": [
    {
     "data": {
      "text/plain": [
       "88.22104321832217"
      ]
     },
     "execution_count": 25,
     "metadata": {},
     "output_type": "execute_result"
    }
   ],
   "source": [
    "e_net_reg3.alpha_"
   ]
  },
  {
   "cell_type": "markdown",
   "id": "db029fa2",
   "metadata": {},
   "source": [
    "Coeficientes del modelo"
   ]
  },
  {
   "cell_type": "code",
   "execution_count": 26,
   "id": "a5db37ec",
   "metadata": {},
   "outputs": [
    {
     "name": "stdout",
     "output_type": "stream",
     "text": [
      "Intercepto (E_net 3): 207578.75671525399\n"
     ]
    }
   ],
   "source": [
    "print('Intercepto (E_net 3):', e_net_reg3.intercept_)"
   ]
  },
  {
   "cell_type": "code",
   "execution_count": 27,
   "id": "eb72cdf1",
   "metadata": {
    "scrolled": true
   },
   "outputs": [
    {
     "name": "stdout",
     "output_type": "stream",
     "text": [
      "Coeficientes de regresión (E_net 3): [ -665.66673501 -1635.49717291  1360.43611923  1394.57171851\n",
      "   462.94148035  -479.85067555   651.75517963  8017.0748673\n",
      " -2725.98075681     0.           614.53993227   575.29190749]\n"
     ]
    }
   ],
   "source": [
    "print('Coeficientes de regresión (E_net 3):', e_net_reg3.coef_)"
   ]
  },
  {
   "cell_type": "markdown",
   "id": "9c884fa3",
   "metadata": {},
   "source": [
    "## Cuarto modelo"
   ]
  },
  {
   "cell_type": "code",
   "execution_count": 28,
   "id": "08f0267e",
   "metadata": {
    "scrolled": true
   },
   "outputs": [
    {
     "data": {
      "text/plain": [
       "ElasticNetCV(cv=15, l1_ratio=1.0)"
      ]
     },
     "execution_count": 28,
     "metadata": {},
     "output_type": "execute_result"
    }
   ],
   "source": [
    "e_net_reg4 = ElasticNetCV(cv = 15, l1_ratio = 1.0)\n",
    "e_net_reg4.fit(X, y)"
   ]
  },
  {
   "cell_type": "markdown",
   "id": "7b73a8be",
   "metadata": {},
   "source": [
    "El parámetro $\\alpha$"
   ]
  },
  {
   "cell_type": "code",
   "execution_count": 29,
   "id": "b2c51c4f",
   "metadata": {},
   "outputs": [
    {
     "data": {
      "text/plain": [
       "851.3687964110661"
      ]
     },
     "execution_count": 29,
     "metadata": {},
     "output_type": "execute_result"
    }
   ],
   "source": [
    "e_net_reg4.alpha_"
   ]
  },
  {
   "cell_type": "markdown",
   "id": "05a1dcf4",
   "metadata": {},
   "source": [
    "Coeficientes del modelo"
   ]
  },
  {
   "cell_type": "code",
   "execution_count": 30,
   "id": "6ecb8c3f",
   "metadata": {},
   "outputs": [
    {
     "name": "stdout",
     "output_type": "stream",
     "text": [
      "Intercepto (E_net 4): 222513.25848599177\n"
     ]
    }
   ],
   "source": [
    "print('Intercepto (E_net 4):', e_net_reg4.intercept_)"
   ]
  },
  {
   "cell_type": "code",
   "execution_count": 31,
   "id": "cfd019c0",
   "metadata": {},
   "outputs": [
    {
     "name": "stdout",
     "output_type": "stream",
     "text": [
      "Coeficientes de regresión (E_net 4): [-35059.98281822 -35564.94868178  13117.67654877     -0.\n",
      "  20322.75324835 -37334.74808662  22357.99331199  71259.09248359\n",
      " -49855.62755164      0.              0.           1292.18282163]\n"
     ]
    }
   ],
   "source": [
    "print('Coeficientes de regresión (E_net 4):', e_net_reg4.coef_)"
   ]
  },
  {
   "cell_type": "markdown",
   "id": "20f25479",
   "metadata": {},
   "source": [
    "# Comparación Gráfica"
   ]
  },
  {
   "cell_type": "code",
   "execution_count": 32,
   "id": "7ef81e7a",
   "metadata": {
    "scrolled": true
   },
   "outputs": [
    {
     "data": {
      "image/png": "[encoded data removed]",
      "text/plain": [
       "<Figure size 576x576 with 1 Axes>"
      ]
     },
     "metadata": {
      "needs_background": "light"
     },
     "output_type": "display_data"
    }
   ],
   "source": [
    "fig = plt.figure(figsize=(8, 8))\n",
    "# ancho de barra-------------------------------------------------\n",
    "barWidth = 0.25\n",
    "# definir posicion barras series---------------------------------\n",
    "r1 = np.arange(len(e_net_reg1.coef_))\n",
    "r2 = [x + barWidth for x in r1]\n",
    "r3 = [x + barWidth for x in r2]\n",
    "r4 = [x + barWidth for x in r3]\n",
    "# pintar las barras----------------------------------------------\n",
    "plt.bar(r1, e_net_reg1.coef_, color = \"blue\", \n",
    "width = barWidth, edgecolor = \"white\", label = \"E_net 1\");\n",
    "plt.bar(r2, e_net_reg2.coef_, color = \"red\", \n",
    "width = barWidth, edgecolor = \"white\", label = \"E_net 2\");\n",
    "plt.bar(r3, e_net_reg3.coef_, color = \"gray\", \n",
    "width = barWidth, edgecolor = \"white\", label = \"E_net 3\");\n",
    "plt.bar(r4, e_net_reg4.coef_, color = \"purple\", \n",
    "width = barWidth, edgecolor = \"white\", label = \"E_net 4\");\n",
    "plt.xticks([r + barWidth for r in range(len(e_net_reg1.coef_))], \n",
    "['B1', 'B2', 'B3', 'B4', 'B5', 'B6', 'B7', 'B8', 'B9', 'B10', 'B11', 'B12']);\n",
    "plt.legend();\n",
    "plt.xlabel(\"Variable\");\n",
    "plt.ylabel(\"Beta\");\n",
    "plt.show(fig)"
   ]
  },
  {
   "cell_type": "markdown",
   "id": "fd30bf65",
   "metadata": {},
   "source": [
    "# Comparativa de modelos"
   ]
  },
  {
   "cell_type": "code",
   "execution_count": 33,
   "id": "c6c2ec6f",
   "metadata": {
    "scrolled": true
   },
   "outputs": [
    {
     "data": {
      "text/html": [
       "<div>\n",
       "<style scoped>\n",
       "    .dataframe tbody tr th:only-of-type {\n",
       "        vertical-align: middle;\n",
       "    }\n",
       "\n",
       "    .dataframe tbody tr th {\n",
       "        vertical-align: top;\n",
       "    }\n",
       "\n",
       "    .dataframe thead th {\n",
       "        text-align: right;\n",
       "    }\n",
       "</style>\n",
       "<table border=\"1\" class=\"dataframe\">\n",
       "  <thead>\n",
       "    <tr style=\"text-align: right;\">\n",
       "      <th></th>\n",
       "      <th>Modelo</th>\n",
       "      <th>Score</th>\n",
       "    </tr>\n",
       "  </thead>\n",
       "  <tbody>\n",
       "    <tr>\n",
       "      <th>0</th>\n",
       "      <td>E_net1</td>\n",
       "      <td>0.000149</td>\n",
       "    </tr>\n",
       "    <tr>\n",
       "      <th>1</th>\n",
       "      <td>E_net2</td>\n",
       "      <td>0.001641</td>\n",
       "    </tr>\n",
       "    <tr>\n",
       "      <th>2</th>\n",
       "      <td>E_net3</td>\n",
       "      <td>0.112733</td>\n",
       "    </tr>\n",
       "    <tr>\n",
       "      <th>3</th>\n",
       "      <td>E_net4</td>\n",
       "      <td>0.641097</td>\n",
       "    </tr>\n",
       "  </tbody>\n",
       "</table>\n",
       "</div>"
      ],
      "text/plain": [
       "   Modelo     Score\n",
       "0  E_net1  0.000149\n",
       "1  E_net2  0.001641\n",
       "2  E_net3  0.112733\n",
       "3  E_net4  0.641097"
      ]
     },
     "execution_count": 33,
     "metadata": {},
     "output_type": "execute_result"
    }
   ],
   "source": [
    "mod = ['E_net1','E_net2','E_net3','E_net4']\n",
    "score = [e_net_reg1.score(X,y),e_net_reg2.score(X,y),e_net_reg3.score(X,y),e_net_reg4.score(X,y)]\n",
    "df = pd.DataFrame()\n",
    "df['Modelo'] = mod\n",
    "df['Score'] = score\n",
    "df"
   ]
  },
  {
   "cell_type": "code",
   "execution_count": 34,
   "id": "4efb8bb8",
   "metadata": {},
   "outputs": [
    {
     "data": {
      "text/plain": [
       "ElasticNetCV(cv=15, l1_ratio=[0.01, 0.1, 0.9, 1])"
      ]
     },
     "execution_count": 34,
     "metadata": {},
     "output_type": "execute_result"
    }
   ],
   "source": [
    "e_net_reg = ElasticNetCV(cv=15, l1_ratio=[0.01,0.1,0.9,1])\n",
    "e_net_reg.fit(X,y)"
   ]
  },
  {
   "cell_type": "code",
   "execution_count": 35,
   "id": "f5896617",
   "metadata": {},
   "outputs": [
    {
     "data": {
      "text/plain": [
       "1.0"
      ]
     },
     "execution_count": 35,
     "metadata": {},
     "output_type": "execute_result"
    }
   ],
   "source": [
    "e_net_reg.l1_ratio_"
   ]
  },
  {
   "cell_type": "code",
   "execution_count": 36,
   "id": "0cac5930",
   "metadata": {},
   "outputs": [],
   "source": [
    "error = e_net_reg.mse_path_"
   ]
  },
  {
   "cell_type": "code",
   "execution_count": 37,
   "id": "232d73ab",
   "metadata": {},
   "outputs": [
    {
     "data": {
      "text/plain": [
       "11741238863.809244"
      ]
     },
     "execution_count": 37,
     "metadata": {},
     "output_type": "execute_result"
    }
   ],
   "source": [
    "np.mean(error)"
   ]
  },
  {
   "cell_type": "markdown",
   "id": "aab0f23c",
   "metadata": {},
   "source": [
    "Elaborado por Jairo Rojas"
   ]
  }
 ],
 "metadata": {
  "kernelspec": {
   "display_name": "Python 3",
   "language": "python",
   "name": "python3"
  },
  "language_info": {
   "codemirror_mode": {
    "name": "ipython",
    "version": 3
   },
   "file_extension": ".py",
   "mimetype": "text/x-python",
   "name": "python",
   "nbconvert_exporter": "python",
   "pygments_lexer": "ipython3",
   "version": "3.8.8"
  }
 },
 "nbformat": 4,
 "nbformat_minor": 5
}
