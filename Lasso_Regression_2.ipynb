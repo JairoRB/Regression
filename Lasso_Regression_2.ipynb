{
 "cells": [
  {
   "cell_type": "markdown",
   "id": "11c2ab48",
   "metadata": {},
   "source": [
    "# Regresión penalizada con Lasso"
   ]
  },
  {
   "cell_type": "markdown",
   "id": "c5abc130",
   "metadata": {},
   "source": [
    "Dataset: California housing\n",
    "\n",
    "Target: Mediana de los valores de las casas \n",
    "\n",
    "Predictoras: variables numéricas y categóricas\n",
    "\n",
    "Se determina a los hiperparámetros por medio de validación cruzada"
   ]
  },
  {
   "cell_type": "markdown",
   "id": "c2ab8b0a",
   "metadata": {},
   "source": [
    "# Librerias"
   ]
  },
  {
   "cell_type": "code",
   "execution_count": 1,
   "id": "9bd38de0",
   "metadata": {},
   "outputs": [],
   "source": [
    "import pandas as pd\n",
    "import numpy as np\n",
    "from pandas.core.common import flatten\n",
    "from plotnine import *\n",
    "from array import *\n",
    "import scipy.stats as stats\n",
    "import math\n",
    "import matplotlib as mpl\n",
    "import matplotlib.pyplot as plt\n",
    "import statsmodels.api as sm\n",
    "from sklearn import linear_model\n",
    "from sklearn.metrics import mean_squared_error, r2_score\n",
    "import statsmodels.formula.api as smf\n",
    "import statsmodels.stats.api as sms"
   ]
  },
  {
   "cell_type": "markdown",
   "id": "ed8300db",
   "metadata": {},
   "source": [
    "# Los datos"
   ]
  },
  {
   "cell_type": "markdown",
   "id": "a5fd7457",
   "metadata": {},
   "source": [
    "Carga de datos"
   ]
  },
  {
   "cell_type": "code",
   "execution_count": 2,
   "id": "50ed7298",
   "metadata": {},
   "outputs": [],
   "source": [
    "path = r'~/Documents/GitHub/Supervisado/dataset/housing.csv'\n",
    "housing = pd.read_csv(path)"
   ]
  },
  {
   "cell_type": "markdown",
   "id": "b4264f68",
   "metadata": {},
   "source": [
    "Variable respuesta y descriptoras"
   ]
  },
  {
   "cell_type": "code",
   "execution_count": 3,
   "id": "a3e14e54",
   "metadata": {},
   "outputs": [],
   "source": [
    "y = housing[\"median_house_value\"].copy()\n",
    "housing = housing.drop(\"median_house_value\", axis=1)"
   ]
  },
  {
   "cell_type": "markdown",
   "id": "4b1e47b9",
   "metadata": {},
   "source": [
    "Variables numéricas"
   ]
  },
  {
   "cell_type": "code",
   "execution_count": 4,
   "id": "4922a440",
   "metadata": {},
   "outputs": [],
   "source": [
    "housing_num = housing.drop(\"ocean_proximity\", axis=1)"
   ]
  },
  {
   "cell_type": "markdown",
   "id": "ee88f6dd",
   "metadata": {},
   "source": [
    "El imputador"
   ]
  },
  {
   "cell_type": "code",
   "execution_count": 5,
   "id": "90da062a",
   "metadata": {},
   "outputs": [],
   "source": [
    "from sklearn.impute import SimpleImputer"
   ]
  },
  {
   "cell_type": "markdown",
   "id": "20069e24",
   "metadata": {},
   "source": [
    "El estandarizador"
   ]
  },
  {
   "cell_type": "code",
   "execution_count": 6,
   "id": "a338f4b6",
   "metadata": {},
   "outputs": [],
   "source": [
    "from sklearn.preprocessing import StandardScaler"
   ]
  },
  {
   "cell_type": "markdown",
   "id": "da0fcebc",
   "metadata": {},
   "source": [
    "La clase pipeline para variables numéricas"
   ]
  },
  {
   "cell_type": "code",
   "execution_count": 7,
   "id": "9e14c381",
   "metadata": {},
   "outputs": [],
   "source": [
    "from sklearn.pipeline import Pipeline"
   ]
  },
  {
   "cell_type": "markdown",
   "id": "616b9b69",
   "metadata": {},
   "source": [
    "Definición del pipeline que trabaja variables numéricas"
   ]
  },
  {
   "cell_type": "code",
   "execution_count": 8,
   "id": "429cdc8f",
   "metadata": {},
   "outputs": [],
   "source": [
    "num_pipeline = Pipeline([\n",
    "        (\"imputador\", SimpleImputer(strategy=\"median\")),\n",
    "        (\"std_scaler\", StandardScaler()),\n",
    "    ])"
   ]
  },
  {
   "cell_type": "markdown",
   "id": "8932f85e",
   "metadata": {},
   "source": [
    "Clases para procesar a las variables categóricas"
   ]
  },
  {
   "cell_type": "code",
   "execution_count": 9,
   "id": "06cef729",
   "metadata": {},
   "outputs": [],
   "source": [
    "from sklearn.compose import ColumnTransformer\n",
    "from sklearn.preprocessing import OneHotEncoder"
   ]
  },
  {
   "cell_type": "markdown",
   "id": "ea3f762e",
   "metadata": {},
   "source": [
    "Definición del pipeline que trabaja variables numéricas y categóricas"
   ]
  },
  {
   "cell_type": "markdown",
   "id": "89d2dc37",
   "metadata": {},
   "source": [
    "Variables numéricas y categóricas"
   ]
  },
  {
   "cell_type": "code",
   "execution_count": 10,
   "id": "a3c94e9d",
   "metadata": {},
   "outputs": [],
   "source": [
    "num_attribs = list(housing_num)\n",
    "cat_attribs = [\"ocean_proximity\"]"
   ]
  },
  {
   "cell_type": "code",
   "execution_count": 11,
   "id": "2bc94a69",
   "metadata": {},
   "outputs": [],
   "source": [
    "full_pipeline = ColumnTransformer([\n",
    "        (\"num\", num_pipeline, num_attribs),\n",
    "        (\"cat\", OneHotEncoder(drop = \"first\"), cat_attribs),\n",
    "    ])"
   ]
  },
  {
   "cell_type": "markdown",
   "id": "b864d260",
   "metadata": {},
   "source": [
    "Aplicación del fullpipeline"
   ]
  },
  {
   "cell_type": "code",
   "execution_count": 12,
   "id": "d87c4e8b",
   "metadata": {},
   "outputs": [],
   "source": [
    "X = full_pipeline.fit_transform(housing)"
   ]
  },
  {
   "cell_type": "markdown",
   "id": "2c9cf00d",
   "metadata": {},
   "source": [
    "# Busqueda de mejores hiper-parámetros"
   ]
  },
  {
   "cell_type": "markdown",
   "id": "75183f6e",
   "metadata": {},
   "source": [
    "Establecer semilla para obtener el mismo resultado"
   ]
  },
  {
   "cell_type": "code",
   "execution_count": 13,
   "id": "9fede9bd",
   "metadata": {},
   "outputs": [],
   "source": [
    "from numpy import mean\n",
    "from numpy import std\n",
    "from numpy import absolute\n",
    "from sklearn.model_selection import cross_val_score\n",
    "from sklearn.model_selection import RepeatedKFold\n",
    "from sklearn.linear_model import Lasso\n",
    "from numpy import arange\n",
    "from sklearn.model_selection import GridSearchCV"
   ]
  },
  {
   "cell_type": "markdown",
   "id": "6b3f07c1",
   "metadata": {},
   "source": [
    "Creación del modelo"
   ]
  },
  {
   "cell_type": "code",
   "execution_count": 14,
   "id": "876ce22f",
   "metadata": {},
   "outputs": [],
   "source": [
    "model = Lasso()"
   ]
  },
  {
   "cell_type": "markdown",
   "id": "bc9ec449",
   "metadata": {},
   "source": [
    "Métrica para evaluar al modelo"
   ]
  },
  {
   "cell_type": "code",
   "execution_count": 15,
   "id": "36d636ba",
   "metadata": {},
   "outputs": [],
   "source": [
    "cv = RepeatedKFold(n_splits=10, n_repeats=3, random_state=42)"
   ]
  },
  {
   "cell_type": "markdown",
   "id": "1aeb3db0",
   "metadata": {},
   "source": [
    "Creación de la malla"
   ]
  },
  {
   "cell_type": "code",
   "execution_count": 16,
   "id": "3d049fdd",
   "metadata": {},
   "outputs": [],
   "source": [
    "grid = dict()\n",
    "grid['alpha'] = arange(0.5, 1.5, 0.1)"
   ]
  },
  {
   "cell_type": "markdown",
   "id": "ab00b44d",
   "metadata": {},
   "source": [
    "Definición de la búsqueda"
   ]
  },
  {
   "cell_type": "code",
   "execution_count": 17,
   "id": "bee717ad",
   "metadata": {},
   "outputs": [],
   "source": [
    "search = GridSearchCV(model, grid, scoring='neg_mean_absolute_error', cv=cv, n_jobs=-1)"
   ]
  },
  {
   "cell_type": "markdown",
   "id": "3ee3ee51",
   "metadata": {},
   "source": [
    "Búsqueda de mejores hiper-parámetros"
   ]
  },
  {
   "cell_type": "code",
   "execution_count": 18,
   "id": "737a7e93",
   "metadata": {},
   "outputs": [],
   "source": [
    "results = search.fit(X, y)"
   ]
  },
  {
   "cell_type": "markdown",
   "id": "5960be07",
   "metadata": {},
   "source": [
    "Resumen de resultados"
   ]
  },
  {
   "cell_type": "code",
   "execution_count": 19,
   "id": "15ad5c19",
   "metadata": {},
   "outputs": [
    {
     "name": "stdout",
     "output_type": "stream",
     "text": [
      "MAE: -49907.660\n"
     ]
    }
   ],
   "source": [
    "print('MAE: %.3f' % results.best_score_)"
   ]
  },
  {
   "cell_type": "code",
   "execution_count": 20,
   "id": "47460f9e",
   "metadata": {
    "scrolled": false
   },
   "outputs": [
    {
     "name": "stdout",
     "output_type": "stream",
     "text": [
      "Config: {'alpha': 0.5}\n"
     ]
    }
   ],
   "source": [
    "print('Config: %s' % results.best_params_)"
   ]
  },
  {
   "cell_type": "markdown",
   "id": "1dbad082",
   "metadata": {},
   "source": [
    "## Predicciones con los mejores hiper-parámetros"
   ]
  },
  {
   "cell_type": "markdown",
   "id": "b1b0430d",
   "metadata": {},
   "source": [
    "Se crea un modelo con los mejores hiper-parámetros"
   ]
  },
  {
   "cell_type": "code",
   "execution_count": 21,
   "id": "ac4d9e60",
   "metadata": {},
   "outputs": [],
   "source": [
    "best_model = Lasso(alpha=0.5)"
   ]
  },
  {
   "cell_type": "markdown",
   "id": "2d1f2683",
   "metadata": {},
   "source": [
    "Para medir el comportamiento del modelo"
   ]
  },
  {
   "cell_type": "code",
   "execution_count": 22,
   "id": "a827eedb",
   "metadata": {},
   "outputs": [],
   "source": [
    "cv1 = RepeatedKFold(n_splits=10, n_repeats=3, random_state=42)"
   ]
  },
  {
   "cell_type": "markdown",
   "id": "db029fa2",
   "metadata": {},
   "source": [
    "Evaluación del mejor modelo"
   ]
  },
  {
   "cell_type": "code",
   "execution_count": 23,
   "id": "83cae9a2",
   "metadata": {},
   "outputs": [],
   "source": [
    "scores = cross_val_score(best_model, X, y, scoring='neg_mean_absolute_error', cv=cv1, n_jobs=-1)"
   ]
  },
  {
   "cell_type": "markdown",
   "id": "1fce56d9",
   "metadata": {},
   "source": [
    "Resultados de score positivos"
   ]
  },
  {
   "cell_type": "code",
   "execution_count": 24,
   "id": "eb72cdf1",
   "metadata": {
    "scrolled": true
   },
   "outputs": [],
   "source": [
    "scores = absolute(scores)"
   ]
  },
  {
   "cell_type": "code",
   "execution_count": 25,
   "id": "08f0267e",
   "metadata": {
    "scrolled": true
   },
   "outputs": [
    {
     "name": "stdout",
     "output_type": "stream",
     "text": [
      "Mean MAE: 49907.660 (1250.962)\n"
     ]
    }
   ],
   "source": [
    "print('Mean MAE: %.3f (%.3f)' % (mean(scores), std(scores)))"
   ]
  },
  {
   "cell_type": "markdown",
   "id": "7b73a8be",
   "metadata": {},
   "source": [
    "Ajuste del mejor modelo"
   ]
  },
  {
   "cell_type": "code",
   "execution_count": 26,
   "id": "b2c51c4f",
   "metadata": {},
   "outputs": [
    {
     "data": {
      "text/plain": [
       "Lasso(alpha=0.5)"
      ]
     },
     "execution_count": 26,
     "metadata": {},
     "output_type": "execute_result"
    }
   ],
   "source": [
    "best_model.fit(X, y)"
   ]
  },
  {
   "cell_type": "markdown",
   "id": "05a1dcf4",
   "metadata": {},
   "source": [
    "Un dato para la predicción"
   ]
  },
  {
   "cell_type": "code",
   "execution_count": 27,
   "id": "6ecb8c3f",
   "metadata": {},
   "outputs": [
    {
     "data": {
      "text/plain": [
       "array([-1.32783522,  1.05254828,  0.98214266, -0.8048191 , -0.97247648,\n",
       "       -0.9744286 , -0.97703285,  2.34476576,  0.        ,  0.        ,\n",
       "        1.        ,  0.        ])"
      ]
     },
     "execution_count": 27,
     "metadata": {},
     "output_type": "execute_result"
    }
   ],
   "source": [
    "row = X[:1][0]\n",
    "row"
   ]
  },
  {
   "cell_type": "markdown",
   "id": "9cef0cb9",
   "metadata": {},
   "source": [
    "La predicción"
   ]
  },
  {
   "cell_type": "code",
   "execution_count": 28,
   "id": "cfd019c0",
   "metadata": {},
   "outputs": [
    {
     "data": {
      "text/plain": [
       "array([408493.59252162])"
      ]
     },
     "execution_count": 28,
     "metadata": {},
     "output_type": "execute_result"
    }
   ],
   "source": [
    "y_pred = best_model.predict([row])\n",
    "y_pred"
   ]
  },
  {
   "cell_type": "code",
   "execution_count": 29,
   "id": "7ef81e7a",
   "metadata": {
    "scrolled": true
   },
   "outputs": [
    {
     "data": {
      "text/plain": [
       "0    452600.0\n",
       "Name: median_house_value, dtype: float64"
      ]
     },
     "execution_count": 29,
     "metadata": {},
     "output_type": "execute_result"
    }
   ],
   "source": [
    "y[:1]"
   ]
  },
  {
   "cell_type": "markdown",
   "id": "aab0f23c",
   "metadata": {},
   "source": [
    "Elaborado por Jairo Rojas"
   ]
  }
 ],
 "metadata": {
  "kernelspec": {
   "display_name": "Python 3",
   "language": "python",
   "name": "python3"
  },
  "language_info": {
   "codemirror_mode": {
    "name": "ipython",
    "version": 3
   },
   "file_extension": ".py",
   "mimetype": "text/x-python",
   "name": "python",
   "nbconvert_exporter": "python",
   "pygments_lexer": "ipython3",
   "version": "3.8.8"
  }
 },
 "nbformat": 4,
 "nbformat_minor": 5
}
