{
 "cells": [
  {
   "cell_type": "markdown",
   "id": "7fd2dbad",
   "metadata": {},
   "source": [
    "# Regresión penalizada con Ridge"
   ]
  },
  {
   "cell_type": "markdown",
   "id": "0c0b7014",
   "metadata": {},
   "source": [
    "Dataset: California housing\n",
    "\n",
    "Target: Mediana de los valores de las casas \n",
    "\n",
    "Predictoras: variables numéricas y categóricas\n",
    "\n",
    "Ridge1 con el hiperparámetro de encogimiento $\\alpha = 0.01$\n",
    "\n",
    "Ridge2 con el hiperparámetro de encogimiento $\\alpha = 1$\n",
    "\n",
    "Ridge3 con el hiperparámetro de encogimiento $\\alpha = 100$\n",
    "\n",
    "Ridge4 con el hiperparámetro de encogimiento $\\alpha = 10000$"
   ]
  },
  {
   "cell_type": "markdown",
   "id": "d9f6e578",
   "metadata": {},
   "source": [
    "# Librerias"
   ]
  },
  {
   "cell_type": "code",
   "execution_count": 1,
   "id": "b4b8bc84",
   "metadata": {},
   "outputs": [],
   "source": [
    "import pandas as pd\n",
    "import os\n",
    "import tarfile\n",
    "import urllib.request\n",
    "import numpy as np\n",
    "from pandas.core.common import flatten\n",
    "from plotnine import *\n",
    "from array import *\n",
    "import scipy.stats as stats\n",
    "import math\n",
    "import matplotlib as mpl\n",
    "import matplotlib.pyplot as plt\n",
    "import statsmodels.api as sm\n",
    "from sklearn import linear_model\n",
    "from sklearn.metrics import mean_squared_error, r2_score\n",
    "import statsmodels.formula.api as smf\n",
    "import statsmodels.stats.api as sms"
   ]
  },
  {
   "cell_type": "markdown",
   "id": "fbd9ce96",
   "metadata": {},
   "source": [
    "# Los datos"
   ]
  },
  {
   "cell_type": "markdown",
   "id": "fda2fccf",
   "metadata": {},
   "source": [
    "Carga de datos"
   ]
  },
  {
   "cell_type": "code",
   "execution_count": 2,
   "id": "c2c09cd3",
   "metadata": {},
   "outputs": [],
   "source": [
    "path = r'~/Documents/GitHub/Supervisado/dataset/housing.csv'\n",
    "housing = pd.read_csv(path)"
   ]
  },
  {
   "cell_type": "markdown",
   "id": "b8277719",
   "metadata": {},
   "source": [
    "Variable respuesta y descriptoras"
   ]
  },
  {
   "cell_type": "code",
   "execution_count": 3,
   "id": "d1ea5095",
   "metadata": {},
   "outputs": [],
   "source": [
    "y = housing[\"median_house_value\"].copy()\n",
    "housing = housing.drop(\"median_house_value\", axis=1)"
   ]
  },
  {
   "cell_type": "markdown",
   "id": "baf30009",
   "metadata": {},
   "source": [
    "Variables numéricas"
   ]
  },
  {
   "cell_type": "code",
   "execution_count": 4,
   "id": "ed823f1c",
   "metadata": {},
   "outputs": [],
   "source": [
    "housing_num = housing.drop(\"ocean_proximity\", axis=1)"
   ]
  },
  {
   "cell_type": "markdown",
   "id": "c6ae92b5",
   "metadata": {},
   "source": [
    "El imputador"
   ]
  },
  {
   "cell_type": "code",
   "execution_count": 5,
   "id": "1aa6266b",
   "metadata": {},
   "outputs": [],
   "source": [
    "from sklearn.impute import SimpleImputer"
   ]
  },
  {
   "cell_type": "markdown",
   "id": "0a936c85",
   "metadata": {},
   "source": [
    "El estandarizador"
   ]
  },
  {
   "cell_type": "code",
   "execution_count": 6,
   "id": "83f8fdbf",
   "metadata": {},
   "outputs": [],
   "source": [
    "from sklearn.preprocessing import StandardScaler"
   ]
  },
  {
   "cell_type": "markdown",
   "id": "e10622b6",
   "metadata": {},
   "source": [
    "La clase pipeline para variables numéricas"
   ]
  },
  {
   "cell_type": "code",
   "execution_count": 7,
   "id": "c24316f0",
   "metadata": {},
   "outputs": [],
   "source": [
    "from sklearn.pipeline import Pipeline"
   ]
  },
  {
   "cell_type": "markdown",
   "id": "78426b54",
   "metadata": {},
   "source": [
    "Definición del pipeline que trabaja variables numéricas"
   ]
  },
  {
   "cell_type": "code",
   "execution_count": 8,
   "id": "5d8ec53d",
   "metadata": {},
   "outputs": [],
   "source": [
    "num_pipeline = Pipeline([\n",
    "        (\"imputador\", SimpleImputer(strategy=\"median\")),\n",
    "        (\"std_scaler\", StandardScaler()),\n",
    "    ])"
   ]
  },
  {
   "cell_type": "markdown",
   "id": "668ddb71",
   "metadata": {},
   "source": [
    "Clases para procesar a las variables categóricas"
   ]
  },
  {
   "cell_type": "code",
   "execution_count": 9,
   "id": "0300730e",
   "metadata": {},
   "outputs": [],
   "source": [
    "from sklearn.compose import ColumnTransformer\n",
    "from sklearn.preprocessing import OneHotEncoder"
   ]
  },
  {
   "cell_type": "markdown",
   "id": "194e75be",
   "metadata": {},
   "source": [
    "Variables numéricas y categóricas"
   ]
  },
  {
   "cell_type": "code",
   "execution_count": 10,
   "id": "58ad1d77",
   "metadata": {},
   "outputs": [],
   "source": [
    "num_attribs = list(housing_num)\n",
    "cat_attribs = [\"ocean_proximity\"]"
   ]
  },
  {
   "cell_type": "markdown",
   "id": "2b15a25a",
   "metadata": {},
   "source": [
    "Definición del pipeline que trabaja variables numéricas y categóricas"
   ]
  },
  {
   "cell_type": "code",
   "execution_count": 11,
   "id": "73809630",
   "metadata": {},
   "outputs": [],
   "source": [
    "full_pipeline = ColumnTransformer([\n",
    "        (\"num\", num_pipeline, num_attribs),\n",
    "        (\"cat\", OneHotEncoder(drop = \"first\"), cat_attribs),\n",
    "    ])"
   ]
  },
  {
   "cell_type": "markdown",
   "id": "cefc827c",
   "metadata": {},
   "source": [
    "Aplicación del fullpipeline"
   ]
  },
  {
   "cell_type": "code",
   "execution_count": 12,
   "id": "ebb7c327",
   "metadata": {},
   "outputs": [],
   "source": [
    "X = full_pipeline.fit_transform(housing)"
   ]
  },
  {
   "cell_type": "markdown",
   "id": "c57096dd",
   "metadata": {},
   "source": [
    "# Regresión Ridge"
   ]
  },
  {
   "cell_type": "code",
   "execution_count": 13,
   "id": "2cc84e39",
   "metadata": {},
   "outputs": [],
   "source": [
    "from sklearn.linear_model import Ridge"
   ]
  },
  {
   "cell_type": "markdown",
   "id": "75c0cbbf",
   "metadata": {},
   "source": [
    "## Primer modelo"
   ]
  },
  {
   "cell_type": "code",
   "execution_count": 14,
   "id": "6c299bc4",
   "metadata": {},
   "outputs": [
    {
     "data": {
      "text/plain": [
       "Ridge(alpha=0.01)"
      ]
     },
     "execution_count": 14,
     "metadata": {},
     "output_type": "execute_result"
    }
   ],
   "source": [
    "ridge_reg1 = Ridge(alpha = 0.01, solver = \"auto\")\n",
    "ridge_reg1.fit(X, y)"
   ]
  },
  {
   "cell_type": "markdown",
   "id": "fb695e4f",
   "metadata": {},
   "source": [
    "Coeficientes del modelo"
   ]
  },
  {
   "cell_type": "code",
   "execution_count": 15,
   "id": "ab565e06",
   "metadata": {},
   "outputs": [
    {
     "name": "stdout",
     "output_type": "stream",
     "text": [
      "Intercepto (Rigde 1): 219237.1656087815\n"
     ]
    }
   ],
   "source": [
    "print('Intercepto (Rigde 1):', ridge_reg1.intercept_)"
   ]
  },
  {
   "cell_type": "code",
   "execution_count": 16,
   "id": "ba096ed6",
   "metadata": {
    "scrolled": true
   },
   "outputs": [
    {
     "name": "stdout",
     "output_type": "stream",
     "text": [
      "Coeficientes de regresión (Rigde 1): [-52952.76566566 -53767.49316377  13312.96401895 -10319.77420238\n",
      "  29921.01222746 -44490.38140509  29745.59366794  73636.02928603\n",
      " -39766.61371366 155753.81717211  -3697.44168381   4758.62364295]\n"
     ]
    }
   ],
   "source": [
    "print('Coeficientes de regresión (Rigde 1):', ridge_reg1.coef_)"
   ]
  },
  {
   "cell_type": "markdown",
   "id": "a89e9931",
   "metadata": {},
   "source": [
    "## Segundo modelo"
   ]
  },
  {
   "cell_type": "code",
   "execution_count": 17,
   "id": "29d1610c",
   "metadata": {},
   "outputs": [
    {
     "data": {
      "text/plain": [
       "Ridge(alpha=1)"
      ]
     },
     "execution_count": 17,
     "metadata": {},
     "output_type": "execute_result"
    }
   ],
   "source": [
    "ridge_reg2 = Ridge(alpha = 1, solver = \"auto\")\n",
    "ridge_reg2.fit(X, y)"
   ]
  },
  {
   "cell_type": "markdown",
   "id": "db90a053",
   "metadata": {},
   "source": [
    "Coeficientes del modelo"
   ]
  },
  {
   "cell_type": "code",
   "execution_count": 18,
   "id": "86b17740",
   "metadata": {},
   "outputs": [
    {
     "name": "stdout",
     "output_type": "stream",
     "text": [
      "Intercepto (Rigde 2): 219251.85470476953\n"
     ]
    }
   ],
   "source": [
    "print('Intercepto (Rigde 2):', ridge_reg2.intercept_)"
   ]
  },
  {
   "cell_type": "code",
   "execution_count": 19,
   "id": "e88a9828",
   "metadata": {
    "scrolled": false
   },
   "outputs": [
    {
     "name": "stdout",
     "output_type": "stream",
     "text": [
      "Coeficientes de regresión (Rigde 2): [-52925.7575442  -53744.69781116  13319.85812079 -10293.66412867\n",
      "  29937.78985234 -44479.43818497  29692.21439608  73624.96037269\n",
      " -39789.8719159  130031.63921427  -3697.62935336   4750.43033774]\n"
     ]
    }
   ],
   "source": [
    "print('Coeficientes de regresión (Rigde 2):', ridge_reg2.coef_)"
   ]
  },
  {
   "cell_type": "markdown",
   "id": "879257e5",
   "metadata": {},
   "source": [
    "## Tercer modelo"
   ]
  },
  {
   "cell_type": "code",
   "execution_count": 20,
   "id": "9af57088",
   "metadata": {},
   "outputs": [
    {
     "data": {
      "text/plain": [
       "Ridge(alpha=100)"
      ]
     },
     "execution_count": 20,
     "metadata": {},
     "output_type": "execute_result"
    }
   ],
   "source": [
    "ridge_reg3 = Ridge(alpha = 100, solver = \"auto\")\n",
    "ridge_reg3.fit(X, y)"
   ]
  },
  {
   "cell_type": "markdown",
   "id": "ad06f626",
   "metadata": {},
   "source": [
    "Coeficientes del modelo"
   ]
  },
  {
   "cell_type": "code",
   "execution_count": 21,
   "id": "6bcdf301",
   "metadata": {},
   "outputs": [
    {
     "name": "stdout",
     "output_type": "stream",
     "text": [
      "Intercepto (Rigde 3): 219767.83669795725\n"
     ]
    }
   ],
   "source": [
    "print('Intercepto (Rigde 3):', ridge_reg3.intercept_)"
   ]
  },
  {
   "cell_type": "code",
   "execution_count": 22,
   "id": "dbdb29f4",
   "metadata": {
    "scrolled": true
   },
   "outputs": [
    {
     "name": "stdout",
     "output_type": "stream",
     "text": [
      "Coeficientes de regresión (Rigde 3): [-47265.56583418 -48010.44669791  13471.76738911  -8847.6190071\n",
      "  28240.78187057 -42785.93768798  28430.80133813  73206.45046469\n",
      " -42341.4724842    7543.20361536  -2130.87028128   5913.0454192 ]\n"
     ]
    }
   ],
   "source": [
    "print('Coeficientes de regresión (Rigde 3):', ridge_reg3.coef_)"
   ]
  },
  {
   "cell_type": "markdown",
   "id": "63eb39b8",
   "metadata": {},
   "source": [
    "## Cuarto modelo"
   ]
  },
  {
   "cell_type": "code",
   "execution_count": 23,
   "id": "7472489e",
   "metadata": {},
   "outputs": [
    {
     "data": {
      "text/plain": [
       "Ridge(alpha=10000)"
      ]
     },
     "execution_count": 23,
     "metadata": {},
     "output_type": "execute_result"
    }
   ],
   "source": [
    "ridge_reg4 = Ridge(alpha = 10000, solver = \"auto\")\n",
    "ridge_reg4.fit(X, y)"
   ]
  },
  {
   "cell_type": "markdown",
   "id": "869f7145",
   "metadata": {},
   "source": [
    "Coeficientes del modelo"
   ]
  },
  {
   "cell_type": "code",
   "execution_count": 24,
   "id": "361da9f7",
   "metadata": {},
   "outputs": [
    {
     "name": "stdout",
     "output_type": "stream",
     "text": [
      "Intercepto (Rigde 4): 213248.32449961078\n"
     ]
    }
   ],
   "source": [
    "print('Intercepto (Rigde 4):', ridge_reg4.intercept_)"
   ]
  },
  {
   "cell_type": "code",
   "execution_count": 25,
   "id": "adcf037a",
   "metadata": {},
   "outputs": [
    {
     "name": "stdout",
     "output_type": "stream",
     "text": [
      "Coeficientes de regresión (Rigde 4): [ -9760.89761151 -12228.34267466  11199.36514172   5640.33695302\n",
      "   4851.91951441  -9762.34854409   5734.63871066  50971.33381983\n",
      " -24316.41748776     89.44198348   5253.33235919   5765.58163202]\n"
     ]
    }
   ],
   "source": [
    "print('Coeficientes de regresión (Rigde 4):', ridge_reg4.coef_)"
   ]
  },
  {
   "cell_type": "markdown",
   "id": "9ab5774b",
   "metadata": {},
   "source": [
    "# Comparación Gráfica"
   ]
  },
  {
   "cell_type": "code",
   "execution_count": 26,
   "id": "7303f31b",
   "metadata": {
    "scrolled": true
   },
   "outputs": [
    {
     "data": {
      "image/png": "[encoded data removed]",
      "text/plain": [
       "<Figure size 576x576 with 1 Axes>"
      ]
     },
     "metadata": {
      "needs_background": "light"
     },
     "output_type": "display_data"
    }
   ],
   "source": [
    "fig = plt.figure(figsize=(8, 8))\n",
    "# ancho de barra-------------------------------------------------\n",
    "barWidth = 0.25\n",
    "# definir posicion barras series---------------------------------\n",
    "r1 = np.arange(len(ridge_reg1.coef_))\n",
    "r2 = [x + barWidth for x in r1]\n",
    "r3 = [x + barWidth for x in r2]\n",
    "r4 = [x + barWidth for x in r3]\n",
    "# pintar las barras----------------------------------------------\n",
    "plt.bar(r1, ridge_reg1.coef_, color = \"blue\", \n",
    "width = barWidth, edgecolor = \"white\", label = \"Ridge 1\");\n",
    "plt.bar(r2, ridge_reg2.coef_, color = \"red\", \n",
    "width = barWidth, edgecolor = \"white\", label = \"Ridge 2\");\n",
    "plt.bar(r3, ridge_reg3.coef_, color = \"gray\", \n",
    "width = barWidth, edgecolor = \"white\", label = \"Ridge 3\");\n",
    "plt.bar(r4, ridge_reg4.coef_, color = \"purple\", \n",
    "width = barWidth, edgecolor = \"white\", label = \"Ridge 4\");\n",
    "plt.xticks([r + barWidth for r in range(len(ridge_reg1.coef_))], \n",
    "['B1', 'B2', 'B3', 'B4', 'B5', 'B6', 'B7', 'B8', 'B9', 'B10', 'B11', 'B12']);\n",
    "plt.legend();\n",
    "plt.xlabel(\"Variable\");\n",
    "plt.ylabel(\"Beta\");\n",
    "plt.show(fig)"
   ]
  },
  {
   "cell_type": "markdown",
   "id": "8bf4c66f",
   "metadata": {},
   "source": [
    "# Comparativa de modelos"
   ]
  },
  {
   "cell_type": "code",
   "execution_count": 27,
   "id": "53698793",
   "metadata": {},
   "outputs": [
    {
     "data": {
      "text/html": [
       "<div>\n",
       "<style scoped>\n",
       "    .dataframe tbody tr th:only-of-type {\n",
       "        vertical-align: middle;\n",
       "    }\n",
       "\n",
       "    .dataframe tbody tr th {\n",
       "        vertical-align: top;\n",
       "    }\n",
       "\n",
       "    .dataframe thead th {\n",
       "        text-align: right;\n",
       "    }\n",
       "</style>\n",
       "<table border=\"1\" class=\"dataframe\">\n",
       "  <thead>\n",
       "    <tr style=\"text-align: right;\">\n",
       "      <th></th>\n",
       "      <th>Modelo</th>\n",
       "      <th>Score</th>\n",
       "    </tr>\n",
       "  </thead>\n",
       "  <tbody>\n",
       "    <tr>\n",
       "      <th>0</th>\n",
       "      <td>Ridge1</td>\n",
       "      <td>0.645453</td>\n",
       "    </tr>\n",
       "    <tr>\n",
       "      <th>1</th>\n",
       "      <td>Ridge2</td>\n",
       "      <td>0.645441</td>\n",
       "    </tr>\n",
       "    <tr>\n",
       "      <th>2</th>\n",
       "      <td>Ridge3</td>\n",
       "      <td>0.644815</td>\n",
       "    </tr>\n",
       "    <tr>\n",
       "      <th>3</th>\n",
       "      <td>Ridge4</td>\n",
       "      <td>0.537983</td>\n",
       "    </tr>\n",
       "  </tbody>\n",
       "</table>\n",
       "</div>"
      ],
      "text/plain": [
       "   Modelo     Score\n",
       "0  Ridge1  0.645453\n",
       "1  Ridge2  0.645441\n",
       "2  Ridge3  0.644815\n",
       "3  Ridge4  0.537983"
      ]
     },
     "execution_count": 27,
     "metadata": {},
     "output_type": "execute_result"
    }
   ],
   "source": [
    "mod = ['Ridge1','Ridge2','Ridge3','Ridge4']\n",
    "score = [ridge_reg1.score(X,y),ridge_reg2.score(X,y),ridge_reg3.score(X,y),ridge_reg4.score(X,y)]\n",
    "df = pd.DataFrame()\n",
    "df['Modelo'] = mod\n",
    "df['Score'] = score\n",
    "df"
   ]
  },
  {
   "cell_type": "markdown",
   "id": "b51fe31e",
   "metadata": {},
   "source": [
    "Elaborado por Jairo Rojas"
   ]
  }
 ],
 "metadata": {
  "kernelspec": {
   "display_name": "Python 3",
   "language": "python",
   "name": "python3"
  },
  "language_info": {
   "codemirror_mode": {
    "name": "ipython",
    "version": 3
   },
   "file_extension": ".py",
   "mimetype": "text/x-python",
   "name": "python",
   "nbconvert_exporter": "python",
   "pygments_lexer": "ipython3",
   "version": "3.8.8"
  }
 },
 "nbformat": 4,
 "nbformat_minor": 5
}
