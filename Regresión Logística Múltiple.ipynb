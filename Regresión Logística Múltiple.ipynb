{
 "cells": [
  {
   "cell_type": "markdown",
   "metadata": {},
   "source": [
    "# Regresión logística múltiple"
   ]
  },
  {
   "cell_type": "markdown",
   "metadata": {},
   "source": [
    "## Librerías"
   ]
  },
  {
   "cell_type": "code",
   "execution_count": 1,
   "metadata": {},
   "outputs": [],
   "source": [
    "# Tratamiento de datos\n",
    "# ==============================================================================\n",
    "import pandas as pd\n",
    "import numpy as np\n",
    "\n",
    "# Gráficos\n",
    "# ==============================================================================\n",
    "import matplotlib.pyplot as plt\n",
    "from matplotlib import style\n",
    "import seaborn as sns\n",
    "\n",
    "# Preprocesado y modelado\n",
    "# ==============================================================================\n",
    "from sklearn.linear_model import LogisticRegression\n",
    "from sklearn.preprocessing import StandardScaler\n",
    "from sklearn.model_selection import train_test_split\n",
    "from sklearn.metrics import accuracy_score\n",
    "from sklearn.metrics import plot_confusion_matrix\n",
    "import statsmodels.api as sm\n",
    "import statsmodels.formula.api as smf\n",
    "\n",
    "# Configuración matplotlib\n",
    "# ==============================================================================\n",
    "plt.rcParams['image.cmap'] = \"bwr\"\n",
    "#plt.rcParams['figure.dpi'] = \"100\"\n",
    "plt.rcParams['savefig.bbox'] = \"tight\"\n",
    "style.use('ggplot') or plt.style.use('ggplot')\n",
    "\n",
    "# Configuración warnings\n",
    "# ==============================================================================\n",
    "import warnings\n",
    "warnings.filterwarnings('ignore')"
   ]
  },
  {
   "cell_type": "markdown",
   "metadata": {},
   "source": [
    "## Datos"
   ]
  },
  {
   "cell_type": "code",
   "execution_count": 2,
   "metadata": {},
   "outputs": [
    {
     "data": {
      "text/html": [
       "<div>\n",
       "<style scoped>\n",
       "    .dataframe tbody tr th:only-of-type {\n",
       "        vertical-align: middle;\n",
       "    }\n",
       "\n",
       "    .dataframe tbody tr th {\n",
       "        vertical-align: top;\n",
       "    }\n",
       "\n",
       "    .dataframe thead th {\n",
       "        text-align: right;\n",
       "    }\n",
       "</style>\n",
       "<table border=\"1\" class=\"dataframe\">\n",
       "  <thead>\n",
       "    <tr style=\"text-align: right;\">\n",
       "      <th></th>\n",
       "      <th>make</th>\n",
       "      <th>address</th>\n",
       "      <th>capitalAve</th>\n",
       "      <th>capitalLong</th>\n",
       "      <th>tipo</th>\n",
       "    </tr>\n",
       "  </thead>\n",
       "  <tbody>\n",
       "    <tr>\n",
       "      <th>0</th>\n",
       "      <td>0.00</td>\n",
       "      <td>0.64</td>\n",
       "      <td>3.756</td>\n",
       "      <td>61</td>\n",
       "      <td>spam</td>\n",
       "    </tr>\n",
       "    <tr>\n",
       "      <th>1</th>\n",
       "      <td>0.21</td>\n",
       "      <td>0.28</td>\n",
       "      <td>5.114</td>\n",
       "      <td>101</td>\n",
       "      <td>spam</td>\n",
       "    </tr>\n",
       "    <tr>\n",
       "      <th>2</th>\n",
       "      <td>0.06</td>\n",
       "      <td>0.00</td>\n",
       "      <td>9.821</td>\n",
       "      <td>485</td>\n",
       "      <td>spam</td>\n",
       "    </tr>\n",
       "  </tbody>\n",
       "</table>\n",
       "</div>"
      ],
      "text/plain": [
       "   make  address  capitalAve  capitalLong  tipo\n",
       "0  0.00     0.64       3.756           61  spam\n",
       "1  0.21     0.28       5.114          101  spam\n",
       "2  0.06     0.00       9.821          485  spam"
      ]
     },
     "execution_count": 2,
     "metadata": {},
     "output_type": "execute_result"
    }
   ],
   "source": [
    "# Datos\n",
    "# ==============================================================================\n",
    "df = pd.DataFrame()\n",
    "\n",
    "make = [0,0.21,0.06,0,0,0,0,0,0.15,0.06,0,0,0,0,0,0,0,0,0,0,\n",
    "        0,0.05,0,0,0,0.05,0,0,0,0,1.17,0,0,0,0,0,0,0,0,0,\n",
    "        0.3,0,0,0,0,0.15,0.18,0.49,0.46,0.46,0,0,0,0,0,0,0,0,0,0,\n",
    "        0,0.9,0,0.08,0,0,0,0,0,0,0,0,0.18,0,0,0,0,0,0,0,0,0,0,0,\n",
    "        0.08,0,0,0,0,0,0,0,0,0.29,0.26,0,0,0,0,0]\n",
    "address = [0.64,0.28,0,0,0,0,0,0,0,0.12,0,0,0.69,0,0,0.42,0,\n",
    "           0,0,0.63,0,0.07,0,0,0,0.07,0,0,0,0,0,0,0,0,0.68,0,\n",
    "           0,0,0.48,0.41,0,0,0,0,0,0.45,0,0,0.3,0.46,0,0,0,0,\n",
    "           0,0,0,0,0,0,0,0,0,0,0,0,0,0,0,0,0.63,0,0.06,0,0,0,\n",
    "           0,0,0,0,0,0,0,0,0.16,0,0,0,0,0,0,0,1.28,0,0,0,0,0,0,0]\n",
    "capitalAve = [3.756,5.114,9.821,3.537,3.537,3,1.671,2.45,9.744,1.729,1.312,\n",
    "              1.243,3.728,2.083,1.971,5.659,4.652,35.461,1.32,3.509,3.833,\n",
    "              2.569,4.857,1.131,5.466,2.565,5.466,2.611,4,2.687,1.966,3.909,\n",
    "              1.39,1.7,3.826,2.777,4.142,5.431,3.1,3.851,2.132,4,4,1.283,2.145,\n",
    "              5.301,1.733,1.468,5.891,3.887,3.482,1.04,1,1.625,4.411,2.5,3.571,\n",
    "              1,1.75,2.285,10.012,2.766,2,2.324,1.8,2.38,2,3.388,1.75,1.444,\n",
    "              2.215,1.932,1.873,1,2.647,1.142,1.909,1,2.322,1.689,1.538,1.745,\n",
    "              1.437,2.51,2.747,3.125,2.848,1.538,2.813,2,1,3.195,1.952,2.847,\n",
    "              1.837,1.942,5.5,1.571,1,1]\n",
    "capitalLong = [61,101,485,40,40,15,4,11,445,43,6,11,61,7,24,55,31,\n",
    "               95,4,91,9,66,12,5,22,66,22,12,11,66,10,11,11,5,30,\n",
    "               6,12,78,61,121,30,12,12,4,38,130,12,8,193,40,5,2,1,\n",
    "               7,28,11,28,1,7,7,251,12,11,18,5,8,4,28,5,5,22,11,29,\n",
    "               1,16,2,5,1,11,10,4,12,3,12,86,17,26,4,121,7,1,21,10,\n",
    "               60,11,8,10,3,1,1]\n",
    "tipo = ['spam','spam','spam','spam','spam','spam','spam','spam','spam','spam',\n",
    "        'spam','spam','spam','spam','spam','spam','spam','spam','spam','spam',\n",
    "        'spam','spam','spam','spam','spam','spam','spam','spam','spam','spam',\n",
    "        'spam','spam','spam','spam','spam','spam','spam','spam','spam','spam',\n",
    "        'spam','spam','spam','spam','spam','spam','spam','spam','spam','spam',\n",
    "        'nonspam','nonspam','nonspam','nonspam','nonspam','nonspam','nonspam','nonspam','nonspam','nonspam',\n",
    "        'nonspam','nonspam','nonspam','nonspam','nonspam','nonspam','nonspam','nonspam','nonspam','nonspam',\n",
    "        'nonspam','nonspam','nonspam','nonspam','nonspam','nonspam','nonspam','nonspam','nonspam','nonspam',\n",
    "        'nonspam','nonspam','nonspam','nonspam','nonspam','nonspam','nonspam','nonspam','nonspam','nonspam',\n",
    "        'nonspam','nonspam','nonspam','nonspam','nonspam','nonspam','nonspam','nonspam','nonspam','nonspam']\n",
    "\n",
    "df['make'] = make\n",
    "df['address'] = address\n",
    "df['capitalAve'] = capitalAve\n",
    "df['capitalLong'] = capitalLong\n",
    "df['tipo'] = tipo\n",
    "\n",
    "df.head(3)"
   ]
  },
  {
   "cell_type": "markdown",
   "metadata": {},
   "source": [
    "## Descripción de datos"
   ]
  },
  {
   "cell_type": "code",
   "execution_count": 3,
   "metadata": {},
   "outputs": [
    {
     "name": "stdout",
     "output_type": "stream",
     "text": [
      "<class 'pandas.core.frame.DataFrame'>\n",
      "RangeIndex: 100 entries, 0 to 99\n",
      "Data columns (total 5 columns):\n",
      " #   Column       Non-Null Count  Dtype  \n",
      "---  ------       --------------  -----  \n",
      " 0   make         100 non-null    float64\n",
      " 1   address      100 non-null    float64\n",
      " 2   capitalAve   100 non-null    float64\n",
      " 3   capitalLong  100 non-null    int64  \n",
      " 4   tipo         100 non-null    object \n",
      "dtypes: float64(3), int64(1), object(1)\n",
      "memory usage: 4.0+ KB\n"
     ]
    }
   ],
   "source": [
    "df.info()"
   ]
  },
  {
   "cell_type": "code",
   "execution_count": 4,
   "metadata": {},
   "outputs": [
    {
     "data": {
      "text/plain": [
       "nonspam    50\n",
       "spam       50\n",
       "Name: tipo, dtype: int64"
      ]
     },
     "execution_count": 4,
     "metadata": {},
     "output_type": "execute_result"
    }
   ],
   "source": [
    "df[\"tipo\"].value_counts()"
   ]
  },
  {
   "cell_type": "code",
   "execution_count": 5,
   "metadata": {},
   "outputs": [
    {
     "name": "stdout",
     "output_type": "stream",
     "text": [
      "Número de observaciones por clase\n",
      "0    50\n",
      "1    50\n",
      "Name: tipo, dtype: int64\n",
      "\n",
      "Porcentaje de observaciones por clase\n",
      "0    50.0\n",
      "1    50.0\n",
      "Name: tipo, dtype: float64\n"
     ]
    }
   ],
   "source": [
    "df['tipo'] = np.where(df['tipo'] == 'spam', 1, 0)\n",
    "\n",
    "print(\"Número de observaciones por clase\")\n",
    "print(df['tipo'].value_counts())\n",
    "print(\"\")\n",
    "\n",
    "print(\"Porcentaje de observaciones por clase\")\n",
    "print(100 * df['tipo'].value_counts(normalize=True))"
   ]
  },
  {
   "cell_type": "code",
   "execution_count": 6,
   "metadata": {},
   "outputs": [],
   "source": [
    "df['dira'] = np.where(df['address'] > 0.15, 1, 0)"
   ]
  },
  {
   "cell_type": "code",
   "execution_count": 7,
   "metadata": {},
   "outputs": [
    {
     "data": {
      "text/plain": [
       "0    86\n",
       "1    14\n",
       "Name: dira, dtype: int64"
      ]
     },
     "execution_count": 7,
     "metadata": {},
     "output_type": "execute_result"
    }
   ],
   "source": [
    "df[\"dira\"].value_counts()"
   ]
  },
  {
   "cell_type": "code",
   "execution_count": 8,
   "metadata": {},
   "outputs": [
    {
     "data": {
      "text/html": [
       "<div>\n",
       "<style scoped>\n",
       "    .dataframe tbody tr th:only-of-type {\n",
       "        vertical-align: middle;\n",
       "    }\n",
       "\n",
       "    .dataframe tbody tr th {\n",
       "        vertical-align: top;\n",
       "    }\n",
       "\n",
       "    .dataframe thead th {\n",
       "        text-align: right;\n",
       "    }\n",
       "</style>\n",
       "<table border=\"1\" class=\"dataframe\">\n",
       "  <thead>\n",
       "    <tr style=\"text-align: right;\">\n",
       "      <th></th>\n",
       "      <th>make</th>\n",
       "      <th>address</th>\n",
       "      <th>capitalAve</th>\n",
       "      <th>capitalLong</th>\n",
       "      <th>tipo</th>\n",
       "      <th>dira</th>\n",
       "    </tr>\n",
       "  </thead>\n",
       "  <tbody>\n",
       "    <tr>\n",
       "      <th>count</th>\n",
       "      <td>100.000000</td>\n",
       "      <td>100.000000</td>\n",
       "      <td>100.000000</td>\n",
       "      <td>100.000000</td>\n",
       "      <td>100.000000</td>\n",
       "      <td>100.000000</td>\n",
       "    </tr>\n",
       "    <tr>\n",
       "      <th>mean</th>\n",
       "      <td>0.055800</td>\n",
       "      <td>0.078300</td>\n",
       "      <td>3.188160</td>\n",
       "      <td>37.150000</td>\n",
       "      <td>0.500000</td>\n",
       "      <td>0.140000</td>\n",
       "    </tr>\n",
       "    <tr>\n",
       "      <th>std</th>\n",
       "      <td>0.172663</td>\n",
       "      <td>0.210291</td>\n",
       "      <td>3.708639</td>\n",
       "      <td>73.553303</td>\n",
       "      <td>0.502519</td>\n",
       "      <td>0.348735</td>\n",
       "    </tr>\n",
       "    <tr>\n",
       "      <th>min</th>\n",
       "      <td>0.000000</td>\n",
       "      <td>0.000000</td>\n",
       "      <td>1.000000</td>\n",
       "      <td>1.000000</td>\n",
       "      <td>0.000000</td>\n",
       "      <td>0.000000</td>\n",
       "    </tr>\n",
       "    <tr>\n",
       "      <th>25%</th>\n",
       "      <td>0.000000</td>\n",
       "      <td>0.000000</td>\n",
       "      <td>1.721750</td>\n",
       "      <td>6.000000</td>\n",
       "      <td>0.000000</td>\n",
       "      <td>0.000000</td>\n",
       "    </tr>\n",
       "    <tr>\n",
       "      <th>50%</th>\n",
       "      <td>0.000000</td>\n",
       "      <td>0.000000</td>\n",
       "      <td>2.415000</td>\n",
       "      <td>12.000000</td>\n",
       "      <td>0.500000</td>\n",
       "      <td>0.000000</td>\n",
       "    </tr>\n",
       "    <tr>\n",
       "      <th>75%</th>\n",
       "      <td>0.000000</td>\n",
       "      <td>0.000000</td>\n",
       "      <td>3.735000</td>\n",
       "      <td>32.750000</td>\n",
       "      <td>1.000000</td>\n",
       "      <td>0.000000</td>\n",
       "    </tr>\n",
       "    <tr>\n",
       "      <th>max</th>\n",
       "      <td>1.170000</td>\n",
       "      <td>1.280000</td>\n",
       "      <td>35.461000</td>\n",
       "      <td>485.000000</td>\n",
       "      <td>1.000000</td>\n",
       "      <td>1.000000</td>\n",
       "    </tr>\n",
       "  </tbody>\n",
       "</table>\n",
       "</div>"
      ],
      "text/plain": [
       "             make     address  capitalAve  capitalLong        tipo        dira\n",
       "count  100.000000  100.000000  100.000000   100.000000  100.000000  100.000000\n",
       "mean     0.055800    0.078300    3.188160    37.150000    0.500000    0.140000\n",
       "std      0.172663    0.210291    3.708639    73.553303    0.502519    0.348735\n",
       "min      0.000000    0.000000    1.000000     1.000000    0.000000    0.000000\n",
       "25%      0.000000    0.000000    1.721750     6.000000    0.000000    0.000000\n",
       "50%      0.000000    0.000000    2.415000    12.000000    0.500000    0.000000\n",
       "75%      0.000000    0.000000    3.735000    32.750000    1.000000    0.000000\n",
       "max      1.170000    1.280000   35.461000   485.000000    1.000000    1.000000"
      ]
     },
     "execution_count": 8,
     "metadata": {},
     "output_type": "execute_result"
    }
   ],
   "source": [
    "df.describe()"
   ]
  },
  {
   "cell_type": "markdown",
   "metadata": {},
   "source": [
    "Se codifica la variable respuesta como 1 si es spam y 0 si no lo es, y se identifica cuantas observaciones hay de cada clase."
   ]
  },
  {
   "cell_type": "markdown",
   "metadata": {},
   "source": [
    "## Preparación de datos"
   ]
  },
  {
   "cell_type": "code",
   "execution_count": 9,
   "metadata": {},
   "outputs": [],
   "source": [
    "# importar el \"imputador\"----------------------------------------\n",
    "from sklearn.impute import SimpleImputer\n",
    "# importar el \"estandarizador\"-----------------------------------\n",
    "from sklearn.preprocessing import StandardScaler\n",
    "# importar la clase pipeline\"------------------------------------\n",
    "from sklearn.pipeline import Pipeline\n",
    "# definir el pipeline--------------------------------------------\n",
    "num_pipeline = Pipeline([\n",
    "        (\"imputador\", SimpleImputer(strategy=\"median\")),\n",
    "        (\"std_scaler\", StandardScaler()),\n",
    "    ])\n",
    "# aplicar el pipeline--------------------------------------------\n",
    "df_tr = num_pipeline.fit_transform(df)\n",
    "# importar clases------------------------------------------------\n",
    "from sklearn.compose import ColumnTransformer\n",
    "# atributos de las variables numericas---------------------------\n",
    "num_attribs = list(df)\n",
    "# definir full pipeline------------------------------------------\n",
    "full_pipeline = ColumnTransformer([\n",
    "        (\"num\", num_pipeline, num_attribs)\n",
    "    ])\n",
    "df_prepared = full_pipeline.fit_transform(df)"
   ]
  },
  {
   "cell_type": "code",
   "execution_count": 10,
   "metadata": {},
   "outputs": [],
   "source": [
    "# División de los datos en train y test\n",
    "# ==============================================================================\n",
    "X = df.drop(columns = ['address','tipo'])\n",
    "y = df['tipo']"
   ]
  },
  {
   "cell_type": "code",
   "execution_count": 11,
   "metadata": {},
   "outputs": [],
   "source": [
    "X_train, X_test, y_train, y_test = train_test_split(\n",
    "                                        X,\n",
    "                                        y.values.reshape(-1,1),\n",
    "                                        train_size   = 0.8,\n",
    "                                        random_state = 1234,\n",
    "                                        shuffle      = True\n",
    "                                    )"
   ]
  },
  {
   "cell_type": "markdown",
   "metadata": {},
   "source": [
    "## Ajuste del modelo"
   ]
  },
  {
   "cell_type": "code",
   "execution_count": 12,
   "metadata": {},
   "outputs": [
    {
     "data": {
      "text/plain": [
       "LogisticRegression()"
      ]
     },
     "execution_count": 12,
     "metadata": {},
     "output_type": "execute_result"
    }
   ],
   "source": [
    "# Creación del modelo utilizando matrices como en scikitlearn\n",
    "# ==============================================================================\n",
    "# ajustar el modelo----------------------------------------------\n",
    "logistic_reg_m = LogisticRegression()\n",
    "logistic_reg_m.fit(X_train, y_train)"
   ]
  },
  {
   "cell_type": "code",
   "execution_count": 13,
   "metadata": {},
   "outputs": [
    {
     "name": "stdout",
     "output_type": "stream",
     "text": [
      "El intercepto es [-1.26632752]\n"
     ]
    }
   ],
   "source": [
    "# intercepto\n",
    "print(\"El intercepto es\", logistic_reg_m.intercept_)"
   ]
  },
  {
   "cell_type": "code",
   "execution_count": 14,
   "metadata": {},
   "outputs": [
    {
     "data": {
      "text/html": [
       "<div>\n",
       "<style scoped>\n",
       "    .dataframe tbody tr th:only-of-type {\n",
       "        vertical-align: middle;\n",
       "    }\n",
       "\n",
       "    .dataframe tbody tr th {\n",
       "        vertical-align: top;\n",
       "    }\n",
       "\n",
       "    .dataframe thead th {\n",
       "        text-align: right;\n",
       "    }\n",
       "</style>\n",
       "<table border=\"1\" class=\"dataframe\">\n",
       "  <thead>\n",
       "    <tr style=\"text-align: right;\">\n",
       "      <th></th>\n",
       "      <th>valor</th>\n",
       "      <th>coeficiente</th>\n",
       "    </tr>\n",
       "  </thead>\n",
       "  <tbody>\n",
       "    <tr>\n",
       "      <th>0</th>\n",
       "      <td>make</td>\n",
       "      <td>0.775664</td>\n",
       "    </tr>\n",
       "    <tr>\n",
       "      <th>1</th>\n",
       "      <td>capitalAve</td>\n",
       "      <td>0.495223</td>\n",
       "    </tr>\n",
       "    <tr>\n",
       "      <th>2</th>\n",
       "      <td>capitalLong</td>\n",
       "      <td>-0.002368</td>\n",
       "    </tr>\n",
       "    <tr>\n",
       "      <th>3</th>\n",
       "      <td>dira</td>\n",
       "      <td>0.457268</td>\n",
       "    </tr>\n",
       "  </tbody>\n",
       "</table>\n",
       "</div>"
      ],
      "text/plain": [
       "         valor  coeficiente\n",
       "0         make     0.775664\n",
       "1   capitalAve     0.495223\n",
       "2  capitalLong    -0.002368\n",
       "3         dira     0.457268"
      ]
     },
     "execution_count": 14,
     "metadata": {},
     "output_type": "execute_result"
    }
   ],
   "source": [
    "# coeficientes de regresion\n",
    "variables = X_train.columns.values.tolist()\n",
    "# poner los coeficientes en otra lista---------------------------\n",
    "coefs = logistic_reg_m.coef_.tolist()[0]\n",
    "coeficientes = pd.DataFrame()\n",
    "coeficientes['valor'] = variables\n",
    "coeficientes['coeficiente'] = coefs\n",
    "coeficientes"
   ]
  },
  {
   "cell_type": "markdown",
   "metadata": {},
   "source": [
    "Recta de regresión:\n",
    "\n",
    "$y = -1.26632752+0.775664*make+0.495223*capitalAve-0.00236801*capitalLong+0.457268*dira$"
   ]
  },
  {
   "cell_type": "markdown",
   "metadata": {},
   "source": [
    "### Predicciones"
   ]
  },
  {
   "cell_type": "code",
   "execution_count": 15,
   "metadata": {},
   "outputs": [
    {
     "data": {
      "text/plain": [
       "array([0, 0, 0, 0, 0, 1, 0, 0, 0, 1, 1, 0, 0, 1, 0, 0, 1, 0, 1, 0, 0, 0,\n",
       "       1, 1, 1, 0, 0, 1, 1, 1, 1, 1, 0, 0, 0, 1, 1, 1, 1, 0, 0, 0, 1, 1,\n",
       "       1, 0, 1, 0, 0, 1, 1, 1, 1, 1, 0, 1, 0, 1, 1, 0, 1, 0, 0, 0, 0, 0,\n",
       "       0, 0, 0, 1, 1, 0, 1, 1, 1, 0, 0, 1, 0, 0])"
      ]
     },
     "execution_count": 15,
     "metadata": {},
     "output_type": "execute_result"
    }
   ],
   "source": [
    "# Predicciones con intervalo de confianza \n",
    "# ==============================================================================\n",
    "clase_predicha = logistic_reg_m.predict(X_train)\n",
    "clase_predicha"
   ]
  },
  {
   "cell_type": "code",
   "execution_count": 16,
   "metadata": {},
   "outputs": [
    {
     "name": "stdout",
     "output_type": "stream",
     "text": [
      "Pr(tipo=0|X_train)= 0.6143 , \n",
      "Pr(tipo=1|X_train)= 0.3857 .\n"
     ]
    }
   ],
   "source": [
    "# calcular probabilidad------------------------------------------\n",
    "clase_predicha_prob=logistic_reg_m.predict_proba(X_train)\n",
    "# sacar por pantalla las probabilidades de 0 y de 1--------------\n",
    "print(\"Pr(tipo=0|X_train)= %.4f\" % clase_predicha_prob[0,0],\",\",\n",
    "      \"\\nPr(tipo=1|X_train)= %.4f\" % clase_predicha_prob[0,1],\".\")"
   ]
  },
  {
   "cell_type": "code",
   "execution_count": 17,
   "metadata": {},
   "outputs": [],
   "source": [
    "# obtener observacion--------------------------------------------\n",
    "datas = pd.DataFrame(np.array([[0.01, 1.000, 32, 0]]), columns = variables)"
   ]
  },
  {
   "cell_type": "code",
   "execution_count": 18,
   "metadata": {},
   "outputs": [
    {
     "name": "stdout",
     "output_type": "stream",
     "text": [
      "[0]\n"
     ]
    }
   ],
   "source": [
    "# predecir clase------------------------------------------\n",
    "clase_predicha1=logistic_reg_m.predict(datas)\n",
    "print(clase_predicha1)"
   ]
  },
  {
   "cell_type": "code",
   "execution_count": 19,
   "metadata": {},
   "outputs": [
    {
     "name": "stdout",
     "output_type": "stream",
     "text": [
      "Pr(tipo=0|datas)= 0.6983 , \n",
      "Pr(tipo=1|datas)= 0.3017 .\n"
     ]
    }
   ],
   "source": [
    "# calcular probabilidad------------------------------------------\n",
    "clase_predicha_prob1=logistic_reg_m.predict_proba(datas)\n",
    "# sacar por pantalla las probabilidades de 0 y de 1--------------\n",
    "print(\"Pr(tipo=0|datas)= %.4f\" % clase_predicha_prob1[0,0],\",\",\n",
    "      \"\\nPr(tipo=1|datas)= %.4f\" % clase_predicha_prob1[0,1],\".\")"
   ]
  },
  {
   "cell_type": "markdown",
   "metadata": {},
   "source": [
    "Elaborado por Jairo Rojas"
   ]
  }
 ],
 "metadata": {
  "kernelspec": {
   "display_name": "Python 3",
   "language": "python",
   "name": "python3"
  },
  "language_info": {
   "codemirror_mode": {
    "name": "ipython",
    "version": 3
   },
   "file_extension": ".py",
   "mimetype": "text/x-python",
   "name": "python",
   "nbconvert_exporter": "python",
   "pygments_lexer": "ipython3",
   "version": "3.8.8"
  }
 },
 "nbformat": 4,
 "nbformat_minor": 4
}
